{
 "cells": [
  {
   "cell_type": "markdown",
   "metadata": {},
   "source": [
    "## 8. Структуры данных. Генераторы.\n",
    "\n",
    "### 8.1 Множество\n",
    "**Множества** – это неупорядоченные наборы простых объектов. Они необходимы тогда, когда присутствие объекта в наборе важнее порядка или того, сколько раз данный объект там встречается.\n",
    "Используя множества, можно осуществлять проверку принадлежности, определять, является ли данное множество подмножеством другого множества, находить пересечения множеств и так далее.\n",
    "\n",
    " #### Основные операции\n",
    "\n",
    "<table style=\"width: 500px;\">\n",
    " <thead style=\"background: #e7e7e7; font-weight: bold;\">\n",
    "    <tr >\n",
    "        <td style=\"text-align: center;\">Операция</td>\n",
    "        <td style=\"text-align: center;\">Интерпретация</td>\n",
    "    </tr>\n",
    "  </thead>\n",
    "   <tbody>\n",
    "    <tr>\n",
    "        <td style=\"text-align: center;\">S = set()</td>\n",
    "        <td style=\"text-align: center;\">Пустое множество</td>\n",
    "    </tr>\n",
    "    <tr>\n",
    "        <td style=\"text-align: center;\">S = {1, 2}</td>\n",
    "        <td style=\"text-align: center;\">Множество из двух элементов</td>\n",
    "    </tr>\n",
    "    <tr>\n",
    "        <td style=\"text-align: center;\">\n",
    "        S = set([1, 2, 3])<br/>\n",
    "        S = {1, 2, 3}<br/>\n",
    "        </td>\n",
    "        <td style=\"text-align: center;\">Альтернативные способы создания множеств</td>\n",
    "    </tr>\n",
    "    <tr>\n",
    "        <td style=\"text-align: center;\">1 in S</td>\n",
    "        <td style=\"text-align: center;\">Проверка на вхождение элемента в множество</td>\n",
    "    </tr>\n",
    "    <tr>\n",
    "        <td style=\"text-align: center;\">S.add(1)</td>\n",
    "        <td style=\"text-align: center;\">Методы: добавить новый элемент </td>\n",
    "    </tr>\n",
    "    <tr>\n",
    "        <td style=\"text-align: center;\">S.issubset({1, 2, 3, 4})</td>\n",
    "        <td style=\"text-align: center;\">является ли подмножеством множество S</td>\n",
    "    </tr>\n",
    "    <tr>\n",
    "        <td style=\"text-align: center;\">S.issuperset(S2)</td>\n",
    "        <td style=\"text-align: center;\">является ли надмножеством множество S</td>\n",
    "    </tr>\n",
    "    <tr>\n",
    "        <td style=\"text-align: center;\">S.union(S2) <br/> S | S2</td>\n",
    "        <td style=\"text-align: center;\">объединение</td>\n",
    "    </tr>\n",
    "    <tr>\n",
    "        <td style=\"text-align: center;\">S.intersect(S2) <br/> S & S2</td>\n",
    "        <td style=\"text-align: center;\">пересечение</td>\n",
    "    </tr>\n",
    "    <tr>\n",
    "        <td style=\"text-align: center;\">S.difference(S2) <br/> S - S2</td>\n",
    "        <td style=\"text-align: center;\">разница</td>\n",
    "    </tr>\n",
    "    <tr>\n",
    "        <td style=\"text-align: center;\">S.symmetric_difference(S2) <br/> S ^ S2</td>\n",
    "        <td style=\"text-align: center;\">симметрическая разница</td>\n",
    "    </tr>\n",
    "  </tbody>\n",
    "</table>"
   ]
  },
  {
   "cell_type": "markdown",
   "metadata": {},
   "source": [
    "## 8.2. Генераторы списков (List comprehensions)"
   ]
  },
  {
   "cell_type": "code",
   "execution_count": 15,
   "metadata": {},
   "outputs": [
    {
     "name": "stdout",
     "output_type": "stream",
     "text": [
      "[1, 2, 3, 4] -> [2, 4, 6, 8]\n",
      "[1, 2, 3, 4] -> [2, 4, 6, 8]\n"
     ]
    }
   ],
   "source": [
    "# 1. Стандартный способ\n",
    "initial_array = [1, 2, 3, 4]\n",
    "\n",
    "array = initial_array[:]\n",
    "for i in range(len(array)):\n",
    "    array[i] *= 2\n",
    "    \n",
    "print(initial_array, array, sep=' -> ')\n",
    "\n",
    "# or\n",
    "array = []\n",
    "for x in initial_array:\n",
    "    array.append(x * 2)\n",
    "    \n",
    "\n",
    "# 2. Использование генераторов списков\n",
    "array = [x * 2 for x in initial_array]\n",
    "print(initial_array, array, sep=' -> ')"
   ]
  },
  {
   "cell_type": "markdown",
   "metadata": {},
   "source": [
    "\n",
    "<img src=\"https://www.freecodecamp.org/news/content/images/2021/07/list-comprehension.png\">"
   ]
  },
  {
   "cell_type": "code",
   "execution_count": 18,
   "metadata": {},
   "outputs": [
    {
     "name": "stdout",
     "output_type": "stream",
     "text": [
      "rounded_elements = [1, 2.3, 3.2]\n"
     ]
    }
   ],
   "source": [
    "elements = [1, 2.3, 3.223]\n",
    "rounded_elements = [round(element, 1) for element in elements]\n",
    "print(f'rounded_elements = {rounded_elements}')"
   ]
  },
  {
   "cell_type": "code",
   "execution_count": 4,
   "metadata": {},
   "outputs": [
    {
     "name": "stdout",
     "output_type": "stream",
     "text": [
      "['The Zen of Python, by Tim Peters\\n', '\\n', 'Beautiful is better than ugly.\\n', 'Explicit is better than implicit.\\n', 'Simple is better than complex.\\n', 'Complex is better than complicated.\\n', 'Flat is better than nested.\\n', 'Sparse is better than dense.\\n', 'Readability counts.\\n', \"Special cases aren't special enough to break the rules.\\n\", 'Although practicality beats purity.\\n', 'Errors should never pass silently.\\n', 'Unless explicitly silenced.\\n', 'In the face of ambiguity, refuse the temptation to guess.\\n', 'There should be one-- and preferably only one --obvious way to do it.\\n', \"Although that way may not be obvious at first unless you're Dutch.\\n\", 'Now is better than never.\\n', 'Although never is often better than *right* now.\\n', \"If the implementation is hard to explain, it's a bad idea.\\n\", 'If the implementation is easy to explain, it may be a good idea.\\n', \"Namespaces are one honking great idea -- let's do more of those!\"]\n",
      "\n",
      "Stripped lines:\n",
      "['The Zen of Python, by Tim Peters', '', 'Beautiful is better than ugly.', 'Explicit is better than implicit.', 'Simple is better than complex.', 'Complex is better than complicated.', 'Flat is better than nested.', 'Sparse is better than dense.', 'Readability counts.', \"Special cases aren't special enough to break the rules.\", 'Although practicality beats purity.', 'Errors should never pass silently.', 'Unless explicitly silenced.', 'In the face of ambiguity, refuse the temptation to guess.', 'There should be one-- and preferably only one --obvious way to do it.', \"Although that way may not be obvious at first unless you're Dutch.\", 'Now is better than never.', 'Although never is often better than *right* now.', \"If the implementation is hard to explain, it's a bad idea.\", 'If the implementation is easy to explain, it may be a good idea.', \"Namespaces are one honking great idea -- let's do more of those!\"]\n",
      "\n",
      "Lines with better:\n",
      "['Beautiful is better than ugly.', 'Explicit is better than implicit.', 'Simple is better than complex.', 'Complex is better than complicated.', 'Flat is better than nested.', 'Sparse is better than dense.', 'Now is better than never.', 'Although never is often better than *right* now.']\n"
     ]
    }
   ],
   "source": [
    "file = open('zen.txt')\n",
    "\n",
    "lines = file.readlines()\n",
    "print(lines)\n",
    "\n",
    "lines = [line.rstrip() for line in lines]\n",
    "\n",
    "\n",
    "print('', 'Stripped lines:', lines, sep='\\n')\n",
    "lines_copy = [\n",
    "    line*2\n",
    "    for line in lines\n",
    "]\n",
    "\n",
    "better_lines = [\n",
    "    line\n",
    "    for line in lines\n",
    "    if 'better' in line\n",
    "]\n",
    "print('', 'Lines with better:', better_lines, sep='\\n')\n",
    "\n",
    "\n",
    "file.close()"
   ]
  },
  {
   "cell_type": "code",
   "execution_count": 2,
   "metadata": {},
   "outputs": [
    {
     "name": "stdout",
     "output_type": "stream",
     "text": [
      "The Zen of Python, by Tim Peters\n",
      "\n",
      "Beautiful is better than ugly.\n",
      "Explicit is better than implicit.\n",
      "Simple is better than complex.\n",
      "Complex is better than complicated.\n",
      "Flat is better than nested.\n",
      "Sparse is better than dense.\n",
      "Readability counts.\n",
      "Special cases aren't special enough to break the rules.\n",
      "Although practicality beats purity.\n",
      "Errors should never pass silently.\n",
      "Unless explicitly silenced.\n",
      "In the face of ambiguity, refuse the temptation to guess.\n",
      "There should be one-- and preferably only one --obvious way to do it.\n",
      "Although that way may not be obvious at first unless you're Dutch.\n",
      "Now is better than never.\n",
      "Although never is often better than *right* now.\n",
      "If the implementation is hard to explain, it's a bad idea.\n",
      "If the implementation is easy to explain, it may be a good idea.\n",
      "Namespaces are one honking great idea -- let's do more of those!"
     ]
    }
   ],
   "source": [
    "with open('zen.txt') as file:\n",
    "    for line in file:\n",
    "        print(line, end='')\n",
    "\n",
    "print('I am done')"
   ]
  },
  {
   "cell_type": "code",
   "execution_count": null,
   "metadata": {},
   "outputs": [
    {
     "name": "stdout",
     "output_type": "stream",
     "text": [
      "['al', 'am', 'an', 'bl', 'bm', 'bn', 'cl', 'cm', 'cn']\n",
      "['al', 'am', 'an', 'bl', 'bm', 'bn', 'cl', 'cm', 'cn']\n"
     ]
    }
   ],
   "source": [
    "concatinations = [x + y for x in 'abc' for y in 'lmn']\n",
    "print(concatinations)\n",
    "\n",
    "# OR\n",
    "concatinations = []\n",
    "for x in 'abc':\n",
    "    for y in 'lmn':\n",
    "        concatinations.append(x + y)\n",
    "\n",
    "print(concatinations)\n",
    "\n",
    "concatinations = [\n",
    "    x + y \n",
    "    for x in 'abc' \n",
    "    for y in 'lmn'\n",
    "]\n"
   ]
  },
  {
   "cell_type": "code",
   "execution_count": 1,
   "metadata": {},
   "outputs": [
    {
     "data": {
      "text/plain": [
       "[9, 81, 225, 441]"
      ]
     },
     "execution_count": 1,
     "metadata": {},
     "output_type": "execute_result"
    }
   ],
   "source": [
    "[\n",
    "    x**2 \n",
    "    for x in range(1, 25, 2) \n",
    "    if not x % 3\n",
    "]"
   ]
  },
  {
   "cell_type": "code",
   "execution_count": 21,
   "metadata": {},
   "outputs": [
    {
     "name": "stdout",
     "output_type": "stream",
     "text": [
      "[1, 2, 3, 4, 5, 6]\n"
     ]
    }
   ],
   "source": [
    "data = [[1, 2],\n",
    "        [3, 4],\n",
    "        [5, 6]]\n",
    "\n",
    "data = [\n",
    "    [1, 2],\n",
    "    [3, 4],\n",
    "    [5, 6],\n",
    "]\n",
    "\n",
    "\n",
    "flat_array = [element for row in data for element in row]\n",
    "\n",
    "flat_array = [\n",
    "    element\n",
    "    for row in data\n",
    "    for element in row\n",
    "]\n",
    "print(flat_array)"
   ]
  },
  {
   "cell_type": "markdown",
   "metadata": {},
   "source": [
    "## 8.2. Генераторы словарей (Dict comprehensions)"
   ]
  },
  {
   "cell_type": "code",
   "execution_count": 1,
   "metadata": {},
   "outputs": [
    {
     "name": "stdout",
     "output_type": "stream",
     "text": [
      "{8: 'B', 1: 'A', 27: 'C'}\n",
      "{27: 'c'}\n"
     ]
    }
   ],
   "source": [
    "keys = (1, 2, 3)\n",
    "values = ('a', 'B', 'c')\n",
    "\n",
    "trash_map = {}\n",
    "for k, v in zip(keys, values):\n",
    "    trash_map[k**3] = v.upper()\n",
    "\n",
    "# OR\n",
    "\n",
    "trash_map = {k**3: v.upper() for k, v in zip(keys, values)}\n",
    "print(trash_map)\n",
    "\n",
    "trash_map = {\n",
    "    k: v.lower() \n",
    "    for k, v in trash_map.items()\n",
    "    if k > 8\n",
    "}\n",
    "print(trash_map)"
   ]
  },
  {
   "cell_type": "markdown",
   "metadata": {},
   "source": [
    "## 8.3. Генераторы множеств (Set comprehensions)"
   ]
  },
  {
   "cell_type": "code",
   "execution_count": 23,
   "metadata": {},
   "outputs": [
    {
     "name": "stdout",
     "output_type": "stream",
     "text": [
      "{-16, 18, -12, 14}\n"
     ]
    }
   ],
   "source": [
    "super_set = {\n",
    "    x * 2 * (x % 2 if x % 2 else -1) \n",
    "    for x in range(10) \n",
    "    if abs(x) > 5\n",
    "}\n",
    "\n",
    "# OR\n",
    "super_set = {\n",
    "    x * 2 * (x % 2 or -1) \n",
    "    for x in range(10) \n",
    "    if abs(x) > 5\n",
    "}\n",
    "\n",
    "print(super_set)"
   ]
  },
  {
   "cell_type": "markdown",
   "metadata": {},
   "source": [
    "### 8.4. Генераторы"
   ]
  },
  {
   "cell_type": "code",
   "execution_count": 16,
   "metadata": {},
   "outputs": [
    {
     "name": "stdout",
     "output_type": "stream",
     "text": [
      "-12 14 -16 18 \n",
      "Second attempt:\n"
     ]
    }
   ],
   "source": [
    "generator = (\n",
    "    x * 2 * (x % 2 or -1) \n",
    "    for x in range(10) \n",
    "    if abs(x) > 5\n",
    ")\n",
    "\n",
    "for x in generator:\n",
    "    print(x, end=' ')\n",
    "\n",
    "print('\\nSecond attempt:')\n",
    "for x in generator:\n",
    "    print(x, end=' ')"
   ]
  },
  {
   "cell_type": "code",
   "execution_count": 1,
   "metadata": {},
   "outputs": [
    {
     "name": "stdout",
     "output_type": "stream",
     "text": [
      "1 2 1 2 "
     ]
    }
   ],
   "source": [
    "generator = (x * 2 for x in range(10))\n",
    "\n",
    "# next(generator)\n",
    "# next(generator)\n",
    "# next(generator)\n",
    "# next(generator)\n",
    "# next(generator)\n",
    "elements = [1, 2]\n",
    "for x in iter(elements):\n",
    "    print(x, end=' ')\n",
    "\n",
    "\n",
    "# internal version of for loop\n",
    "elements_iter = iter(elements)\n",
    "while True:\n",
    "    try:\n",
    "        x = next(elements_iter)\n",
    "    except StopIteration:\n",
    "        break\n",
    "    print(x, end=' ')"
   ]
  },
  {
   "cell_type": "code",
   "execution_count": 20,
   "metadata": {},
   "outputs": [
    {
     "name": "stdout",
     "output_type": "stream",
     "text": [
      "0\n",
      "2\n",
      "4\n",
      "[0, 2, 4]\n"
     ]
    }
   ],
   "source": [
    "generator = (x * 2 for x in range(3))\n",
    "for x in generator:\n",
    "    print(x)\n",
    "\n",
    "generator = (x * 2 for x in range(3))\n",
    "event_numbers = [x for x in generator]    \n",
    "print(event_numbers)"
   ]
  },
  {
   "cell_type": "code",
   "execution_count": 25,
   "metadata": {},
   "outputs": [
    {
     "name": "stdout",
     "output_type": "stream",
     "text": [
      "<generator object <genexpr> at 0x10a76b840>\n"
     ]
    }
   ],
   "source": [
    "users = []\n",
    "users = (user for user in [])\n",
    "print(users)\n",
    "if not users:\n",
    "    print('No users')"
   ]
  },
  {
   "cell_type": "code",
   "execution_count": 30,
   "metadata": {},
   "outputs": [
    {
     "name": "stdout",
     "output_type": "stream",
     "text": [
      "1 here\n"
     ]
    }
   ],
   "source": [
    "users = (user for user in [2, 1])\n",
    "if 1 in users:\n",
    "    print('1 here')\n",
    "\n",
    "if 2 in users:\n",
    "    print('2 here')"
   ]
  },
  {
   "cell_type": "code",
   "execution_count": 32,
   "metadata": {},
   "outputs": [
    {
     "name": "stdout",
     "output_type": "stream",
     "text": [
      "(2, 1)\n",
      "[2, 1]\n",
      "{1, 2}\n"
     ]
    }
   ],
   "source": [
    "users = (user for user in [2, 1])\n",
    "print(tuple(users))\n",
    "\n",
    "users = (user for user in [2, 1])\n",
    "print(list(users))\n",
    "\n",
    "users = (user for user in [2, 1])\n",
    "print(set(users))\n"
   ]
  },
  {
   "cell_type": "code",
   "execution_count": 19,
   "metadata": {},
   "outputs": [
    {
     "name": "stdout",
     "output_type": "stream",
     "text": [
      "1\n",
      "2\n"
     ]
    },
    {
     "ename": "StopIteration",
     "evalue": "",
     "output_type": "error",
     "traceback": [
      "\u001b[0;31m---------------------------------------------------------------------------\u001b[0m",
      "\u001b[0;31mStopIteration\u001b[0m                             Traceback (most recent call last)",
      "Cell \u001b[0;32mIn [19], line 4\u001b[0m\n\u001b[1;32m      2\u001b[0m \u001b[38;5;28mprint\u001b[39m(\u001b[38;5;28mnext\u001b[39m(iterator))\n\u001b[1;32m      3\u001b[0m \u001b[38;5;28mprint\u001b[39m(\u001b[38;5;28mnext\u001b[39m(iterator))\n\u001b[0;32m----> 4\u001b[0m \u001b[38;5;28mprint\u001b[39m(\u001b[38;5;28;43mnext\u001b[39;49m\u001b[43m(\u001b[49m\u001b[43miterator\u001b[49m\u001b[43m)\u001b[49m)\n\u001b[1;32m      5\u001b[0m \u001b[38;5;28mprint\u001b[39m(\u001b[38;5;28mnext\u001b[39m(iterator))\n",
      "\u001b[0;31mStopIteration\u001b[0m: "
     ]
    }
   ],
   "source": [
    "iterator = iter(elements)\n",
    "print(next(iterator))\n",
    "print(next(iterator))\n",
    "print(next(iterator))\n",
    "print(next(iterator))\n"
   ]
  },
  {
   "cell_type": "code",
   "execution_count": 33,
   "metadata": {},
   "outputs": [
    {
     "name": "stdout",
     "output_type": "stream",
     "text": [
      "36\n"
     ]
    }
   ],
   "source": [
    "elements_sum = sum([x ** 3 for x in range(4)])\n",
    "elements_sum = sum((x ** 3 for x in range(4)))\n",
    "elements_sum = sum(x ** 3 for x in range(4))\n",
    "print(elements_sum)"
   ]
  },
  {
   "cell_type": "markdown",
   "metadata": {},
   "source": [
    "# Задачи\n",
    "\n",
    "## 1. Не уникальные элементы.\n",
    " **Дано:** непустой массив целых чисел.\n",
    " \n",
    " **Задание:** нужно получить массив, состоящий только из неуникальных элементов данного массива. Для этого необходимо удалить все уникальные элементы (которые присутствуют в данном массиве только один раз). Для решения этой задачи не меняйте оригинальный порядок элементов. Пример: [1, 2, 3, 1, 3], где 1 и 3 неуникальные элементы и результат будет [1, 3, 1, 3]. \n",
    " \n",
    " **Пример:**\n",
    " \n",
    "     [1, 2, 3, 1, 3], результат: [1, 3, 1, 3]\n",
    "     [1, 2, 3, 4, 5], результат: []\n",
    "     [5, 5, 5, 5, 5], результат: [5, 5, 5, 5, 5]\n",
    "     [10, 9, 10, 10, 9, 8], результат: [10, 9, 10, 10, 9]\n",
    "\n",
    "## 2. Перестановки.\n",
    " **Дано:** x, y, z, n.\n",
    " \n",
    " **Задание:** нужно получить список всех возможных перестановок чисел x, y, z, где x + y + z != n. \n",
    " \n",
    " **Пример:**\n",
    "     \n",
    "     \n",
    "     x = 0 y = 0 z = 1\n",
    "     n = 2, результат: [[0, 0, 0], [0, 0, 1], [0, 1, 0], [1, 0, 0], [1, 1, 1]]\n",
    "\n",
    "## 3. Удвоенные нечетные.\n",
    " **Дано:** n.\n",
    " \n",
    " **Задание:** нужно получить список \"удвоенных\" нечетных чисел от 0 до n. \n",
    " \n",
    " **Пример:**\n",
    " \n",
    "     n = 5, результат: [2, 6]\n",
    "\n",
    "\n",
    "## [Junior] 4. Дешифратор.\n",
    " **Дано:** шифровальная решетка (4 на 4) и зашифрованный пароль (4 на 4) представлены, как массив строк.\n",
    " \n",
    " **Задание.** \n",
    " Помогите Софи написать дешифратор для паролей, которые Никола зашифровал с помощью шифровальной решетки. Шифрорешетка - это квадрат 4 на 4 с четырьмя вырезанными окошками. Поместите решетку на листе бумаги такого же размера с буквами, выписываете первые 4 символа, которые видно в окошках (см. рисунок). Затем поверните решетку на 90 градусов по часовой стрелке. Выпишите следующие символы и повторите поворот. В итоге процедура повторяется 4 раза. Таким образом сложно узнать пароль без специальной решетки.\n",
    " \n",
    " Напишите программу, которая поможет проводить данную процедуру.\n",
    " \n",
    " \n",
    " **Пример:**\n",
    " \n",
    "     (('X...',\n",
    "       '..X.',\n",
    "       'X..X',\n",
    "       '....'),\n",
    "      ('itdf',\n",
    "       'gdce',\n",
    "       'aton',\n",
    "       'qrdi'), результат: 'icantforgetiddqd'\n",
    "      \n",
    "     (('....',\n",
    "       'X..X',\n",
    "       '.X..',\n",
    "       '...X'),\n",
    "      ('xhwc',\n",
    "       'rsqx',\n",
    "       'xqzz',\n",
    "       'fyzr')), результат: 'rxqrwsfzxqxzhczy'\n",
    "       \n",
    "## [Junior+] 5. Возраст привидений\n",
    " **Дано:** степень прозрачности, как целое число.\n",
    " \n",
    " **Задание.** \n",
    " У Николы появилось свободное время и он решил заняться исследованием привидений. Он хочет найти способ, как определять возраст привидений. Согласно древним фолиантам, возраст связан со степенью прозрачности призраков. Никола составил шкалу измерений прозрачности от 10000 до 0, где 10000 - это совсем не прозрачное \"новорождённое\" привидение (0 лет) и 0 - это уже невидимка (возраст неизвестен).\n",
    "\n",
    "После множества экспериментов, Никола кажется начел взаимосвязь. На каждый \"день рождения\", степень прозрачности привидения уменьшается на количество единиц, равное его возрасту, если возраст есть одно из чисел Фибоначчи (подробней здесь), иначе увеличивается на единицу.\n",
    "\n",
    "Для примера:\n",
    "\"Новорождённое\" привидение -- 10000 единиц прозрачности.\n",
    "\n",
    "1 год -- 10000 - 1 = 9999 (1 число Фибоначчи).\n",
    "\n",
    "2 года -- 9999 - 2 = 9997 (2 число Фибоначчи).\n",
    "\n",
    "3 года -- 9997 - 3 = 9994 (3 число Фибоначчи).\n",
    "\n",
    "4 года -- 9994 + 1 = 9995 (4 не число Фибоначчи).\n",
    "\n",
    "5 лет -- 9995 - 5 = 9990 (5 число Фибоначчи).\n",
    "Помогите Николе написать функцию, которая будет определять возраст привидения по прозрачности. Вам известно измерение прозрачности, как число от 0 до 10000 включительно. Привидения не бывают старше 5000 лет, так как потом просто исчезают (серьезно, научный факт).\n",
    " \n",
    " \n",
    " **Пример:**\n",
    " \n",
    "    прозрачность = 10000, возраст: 0\n",
    "    прозрачность = 9999, возраст: 1\n",
    "    прозрачность = 9997, возраст: 2\n",
    "    прозрачность = 9994, возраст: 3\n",
    "    прозрачность = 9995, возраст: 4\n",
    "    прозрачность = 9990, возраст: 5\n",
    "       "
   ]
  },
  {
   "cell_type": "code",
   "execution_count": null,
   "metadata": {
    "collapsed": true,
    "jupyter": {
     "outputs_hidden": true
    }
   },
   "outputs": [],
   "source": []
  }
 ],
 "metadata": {
  "kernelspec": {
   "display_name": "Python 3 (ipykernel)",
   "language": "python",
   "name": "python3"
  },
  "language_info": {
   "codemirror_mode": {
    "name": "ipython",
    "version": 3
   },
   "file_extension": ".py",
   "mimetype": "text/x-python",
   "name": "python",
   "nbconvert_exporter": "python",
   "pygments_lexer": "ipython3",
   "version": "3.10.6"
  }
 },
 "nbformat": 4,
 "nbformat_minor": 4
}
