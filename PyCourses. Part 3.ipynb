{
 "cells": [
  {
   "cell_type": "code",
   "execution_count": 20,
   "metadata": {
    "collapsed": false,
    "jupyter": {
     "outputs_hidden": false
    },
    "pycharm": {
     "name": "#%%\n"
    }
   },
   "outputs": [],
   "source": [
    "# coding: utf8"
   ]
  },
  {
   "cell_type": "markdown",
   "metadata": {
    "pycharm": {
     "name": "#%% md\n"
    }
   },
   "source": [
    "# Введение в язык Python\n",
    "## 3.1 Динамическая типизация или все есть объект.\n"
   ]
  },
  {
   "cell_type": "code",
   "execution_count": 5,
   "metadata": {
    "pycharm": {
     "name": "#%%\n"
    },
    "tags": []
   },
   "outputs": [
    {
     "name": "stdout",
     "output_type": "stream",
     "text": [
      "Ivan\n"
     ]
    },
    {
     "data": {
      "text/plain": [
       "'IVAN'"
      ]
     },
     "execution_count": 5,
     "metadata": {},
     "output_type": "execute_result"
    }
   ],
   "source": [
    "x = 1\n",
    "x = 'Hello'\n",
    "y = x\n",
    "x = 1.2\n",
    "x = int\n",
    "x = print\n",
    "\n",
    "name = 'Ivan'\n",
    "print(name)\n",
    "name.upper()"
   ]
  },
  {
   "cell_type": "code",
   "execution_count": 14,
   "metadata": {},
   "outputs": [
    {
     "data": {
      "text/plain": [
       "4336668960"
      ]
     },
     "execution_count": 14,
     "metadata": {},
     "output_type": "execute_result"
    }
   ],
   "source": [
    "id(x)"
   ]
  },
  {
   "cell_type": "code",
   "execution_count": 6,
   "metadata": {},
   "outputs": [
    {
     "data": {
      "text/plain": [
       "4379319664"
      ]
     },
     "execution_count": 6,
     "metadata": {},
     "output_type": "execute_result"
    }
   ],
   "source": [
    "id('hello')"
   ]
  },
  {
   "cell_type": "code",
   "execution_count": 8,
   "metadata": {},
   "outputs": [
    {
     "data": {
      "text/plain": [
       "4379319664"
      ]
     },
     "execution_count": 8,
     "metadata": {},
     "output_type": "execute_result"
    }
   ],
   "source": [
    "id('hello')"
   ]
  },
  {
   "cell_type": "code",
   "execution_count": 6,
   "metadata": {},
   "outputs": [
    {
     "data": {
      "text/plain": [
       "4380410416"
      ]
     },
     "execution_count": 6,
     "metadata": {},
     "output_type": "execute_result"
    }
   ],
   "source": [
    "x = 'he'+'llo'\n",
    "id(x)"
   ]
  },
  {
   "cell_type": "code",
   "execution_count": 8,
   "metadata": {},
   "outputs": [
    {
     "data": {
      "text/plain": [
       "4337418480"
      ]
     },
     "execution_count": 8,
     "metadata": {},
     "output_type": "execute_result"
    }
   ],
   "source": [
    "id(1)"
   ]
  },
  {
   "cell_type": "code",
   "execution_count": 10,
   "metadata": {},
   "outputs": [
    {
     "data": {
      "text/plain": [
       "4337418512"
      ]
     },
     "execution_count": 10,
     "metadata": {},
     "output_type": "execute_result"
    }
   ],
   "source": [
    "id(2)"
   ]
  },
  {
   "cell_type": "code",
   "execution_count": 11,
   "metadata": {},
   "outputs": [
    {
     "data": {
      "text/plain": [
       "4337418512"
      ]
     },
     "execution_count": 11,
     "metadata": {},
     "output_type": "execute_result"
    }
   ],
   "source": [
    "id(1+1)"
   ]
  },
  {
   "cell_type": "markdown",
   "metadata": {
    "pycharm": {
     "name": "#%% md\n"
    }
   },
   "source": [
    "## 3.2 Комментарии\n",
    "**Комментарии** – это то, что пишется после символа #, и представляет интерес лишь как заметка для читающего программу.\n",
    "\n",
    "Текст программы говорит о том, **КАК**, а комментарии должны объяснять, **ПОЧЕМУ**."
   ]
  },
  {
   "cell_type": "code",
   "execution_count": 21,
   "metadata": {
    "pycharm": {
     "name": "#%%\n"
    }
   },
   "outputs": [
    {
     "name": "stdout",
     "output_type": "stream",
     "text": [
      "\n",
      "print('Привет, Мир!') # print -- это функция\n",
      "print() // 1\n",
      "print() // 1\n",
      "\n"
     ]
    }
   ],
   "source": [
    "'''\n",
    "print('Привет, Мир!') # print -- это функция\n",
    "print() // 1\n",
    "print() // 1\n",
    "'''\n",
    "\n",
    "# print('Привет, Мир!') # print -- это функция\n",
    "# print() // 1\n",
    "# print() // 1\n",
    "\n",
    "print(comment_varible)"
   ]
  },
  {
   "cell_type": "markdown",
   "metadata": {
    "pycharm": {
     "name": "#%% md\n"
    }
   },
   "source": [
    "## 3.3 Литеральные константы\n",
    "Примеры литеральных констант: **5, 1.23, 9.25e-3, \"It's a string!\"**."
   ]
  },
  {
   "cell_type": "code",
   "execution_count": 42,
   "metadata": {
    "pycharm": {
     "name": "#%%\n"
    },
    "tags": []
   },
   "outputs": [
    {
     "name": "stdout",
     "output_type": "stream",
     "text": [
      "60 24\n"
     ]
    }
   ],
   "source": [
    "x = 5 * 1.23 * 0.5 * .5\n",
    "x = \"It's a string\"\n",
    "x = 'Hello World!'\n",
    "\n",
    "MINUTES_IN_HOUR = 60\n",
    "minutes_in_hour = 24\n",
    "\n",
    "print(MINUTES_IN_HOUR, minutes_in_hour)\n"
   ]
  },
  {
   "cell_type": "code",
   "execution_count": 49,
   "metadata": {},
   "outputs": [
    {
     "name": "stdout",
     "output_type": "stream",
     "text": [
      "fdgdgf 4415887280\n",
      "FDGDGF 4419940720\n"
     ]
    }
   ],
   "source": [
    "value = 'fdgdgf'\n",
    "print(value, id(value))\n",
    "print(value.upper(), id(value.upper()))"
   ]
  },
  {
   "cell_type": "code",
   "execution_count": 58,
   "metadata": {},
   "outputs": [
    {
     "name": "stdout",
     "output_type": "stream",
     "text": [
      "4337418608\n",
      "4337418672\n",
      "4337418448\n"
     ]
    }
   ],
   "source": [
    "int_value_1 = 5\n",
    "int_value_2 = 2\n",
    "print(id(int_value_1))\n",
    "\n",
    "int_value_1 = int_value_1 + int_value_2\n",
    "print(id(int_value_1))\n",
    "\n",
    "int_value_1 = 0\n",
    "print(id(int_value_1))"
   ]
  },
  {
   "cell_type": "code",
   "execution_count": 65,
   "metadata": {},
   "outputs": [
    {
     "name": "stdout",
     "output_type": "stream",
     "text": [
      "5 4337418608\n",
      "5 4337418608\n"
     ]
    }
   ],
   "source": [
    "int_value_1 = 7\n",
    "int_value_2 = 5\n",
    "print(int_value_2, id(int_value_2))\n",
    "\n",
    "int_value_3 = int_value_1 - 2\n",
    "print(int_value_3, id(int_value_3))"
   ]
  },
  {
   "cell_type": "code",
   "execution_count": 66,
   "metadata": {},
   "outputs": [
    {
     "name": "stdout",
     "output_type": "stream",
     "text": [
      "100500 4414031152\n",
      "100500 4414037488\n"
     ]
    }
   ],
   "source": [
    "int_value_1 = 1\n",
    "int_value_2 = 100500\n",
    "print(int_value_2, id(int_value_2))\n",
    "\n",
    "int_value_3 = 100502 - 2 \n",
    "print(int_value_3, id(int_value_3))"
   ]
  },
  {
   "cell_type": "code",
   "execution_count": 67,
   "metadata": {},
   "outputs": [
    {
     "name": "stdout",
     "output_type": "stream",
     "text": [
      "5 4337418608\n",
      "5 4337418608 4337418608\n"
     ]
    }
   ],
   "source": [
    "int_value_1 = 0\n",
    "int_value_2 = 5\n",
    "print(int_value_2, id(int_value_2))\n",
    "int_value_3 = int_value_1 + int_value_2\n",
    "print(int_value_3, id(int_value_2), id(int_value_3))"
   ]
  },
  {
   "cell_type": "markdown",
   "metadata": {
    "pycharm": {
     "name": "#%% md\n"
    }
   },
   "source": [
    "## 3.3 Имена идентификаторов\n",
    "Переменные – это частный случай идентификаторов. Идентификаторы – это имена, присвоенные чему-то для его обозначения.\n",
    "\n",
    "При выборе имён для идентификаторов необходимо соблюдать следующие правила:\n",
    "\n",
    "1) первым символом идентификатора должна быть буква из алфавита (символ ASCII в верхнем или нижнем регистре, или символ Unicode), а также символ подчёркивания (“_”);\n",
    "\n",
    "2) остальная часть идентификатора может состоять из букв(символы ASCII вверхнем или нижнем регистре, а также символы Unicode), знаков подчёркивания (“_”) или цифр (0-9);\n",
    "\n",
    "3) имена идентификаторов чувствительны к регистру.\n",
    "\n",
    "Примеры допустимых имён идентификаторов: i,__my_name,name_23,a1b2_c3, δξѪђёўЩӆΞέά.\n",
    "\n",
    "Примеры недопустимых имён идентификаторов: 2things, my- name, >a1b2_c3 и \"это_в_кавычках\"."
   ]
  },
  {
   "cell_type": "markdown",
   "metadata": {
    "pycharm": {
     "name": "#%% md\n"
    }
   },
   "source": [
    "## 3.3 Типы данных\n",
    "\n",
    "<table style=\"width: 500px;\">\n",
    " <thead style=\"background: #e7e7e7; font-weight: bold;\">\n",
    "    <tr >\n",
    "        <td style=\"text-align: center;\">Неизменяемые</td>\n",
    "        <td style=\"text-align: center;\">Изменяемые</td>\n",
    "    </tr>\n",
    "  </thead>\n",
    "   <tbody >\n",
    "    <tr>\n",
    "        <td style=\"text-align: center;\">str</td>\n",
    "        <td style=\"text-align: center;\">list</td>\n",
    "    </tr>\n",
    "    <tr>\n",
    "        <td style=\"text-align: center;\">int</td>\n",
    "        <td style=\"text-align: center;\">set</td>\n",
    "    </tr>\n",
    "    <tr>\n",
    "        <td style=\"text-align: center;\">float</td>\n",
    "        <td style=\"text-align: center;\">dict</td>\n",
    "    </tr>\n",
    "    <tr>\n",
    "        <td style=\"text-align: center;\">long</td>\n",
    "        <td style=\"text-align: center;\"></td>\n",
    "    </tr>\n",
    "    <tr>\n",
    "        <td style=\"text-align: center;\">bool</td>\n",
    "        <td style=\"text-align: center;\"></td>\n",
    "    </tr>\n",
    "    <tr>\n",
    "        <td style=\"text-align: center;\">tuple</td>\n",
    "        <td style=\"text-align: center;\"></td>\n",
    "    </tr>\n",
    "    <tr>\n",
    "        <td style=\"text-align: center;\">frozenset</td>\n",
    "        <td style=\"text-align: center;\"></td>\n",
    "    </tr>\n",
    "  </tbody>\n",
    "</table>\n"
   ]
  },
  {
   "cell_type": "markdown",
   "metadata": {
    "pycharm": {
     "name": "#%% md\n"
    }
   },
   "source": [
    "### 3.3.1 Числа\n",
    "**Числа** в Python бывают трёх типов.\n",
    "\n",
    "1. Целые числа, например: **2, 31, 100500**\n",
    "2. Числа с плавающей точкой, например: **3.23, 52.3E-4, 0.5, .05**\n",
    "3. Комплексные числа, например: **(-5 + 4j), (2.3 - 4.6j)**"
   ]
  },
  {
   "cell_type": "code",
   "execution_count": 68,
   "metadata": {
    "pycharm": {
     "name": "#%%\n"
    }
   },
   "outputs": [
    {
     "name": "stdout",
     "output_type": "stream",
     "text": [
      "(2+3j)\n"
     ]
    },
    {
     "data": {
      "text/plain": [
       "1001000"
      ]
     },
     "execution_count": 68,
     "metadata": {},
     "output_type": "execute_result"
    }
   ],
   "source": [
    "x = 1_00500\n",
    "x = .05\n",
    "x = (-5 + 4j)\n",
    "x = 2 + 3j\n",
    "print(x)\n",
    "x = 10001000\n",
    "x = 1_001_000\n",
    "x"
   ]
  },
  {
   "cell_type": "markdown",
   "metadata": {
    "pycharm": {
     "name": "#%% md\n"
    }
   },
   "source": [
    "### 3.3.2 Строки\n",
    "**Строка** – это последовательность символов. Чаще всего строки – это просто некоторые наборы слов.\n",
    "Слова могут быть как на английском языке, так и на любом другом, поддерживаемом стандартом Unicode, что означает почти на любом языке мира."
   ]
  },
  {
   "cell_type": "code",
   "execution_count": 4,
   "metadata": {
    "pycharm": {
     "name": "#%%\n"
    }
   },
   "outputs": [
    {
     "name": "stdout",
     "output_type": "stream",
     "text": [
      "Hello World\n",
      "Hello World\n",
      "I'm writing cool code.\n",
      "\n",
      "    Beautiful is better than ugly.\n",
      "    Explicit is better than implicit.\n",
      "    \n",
      "Beautiful is better than ugly.\n",
      "Explicit is better than implicit.\n"
     ]
    }
   ],
   "source": [
    "x = 'Hello World'\n",
    "x = \"Hello World\"\n",
    "\n",
    "# Символ - это срока, состоящая из одного элемента\n",
    "x = 'a'\n",
    "x = \"a\"\n",
    "\n",
    "# Объединение строк\n",
    "x = \"Hello \" \"World\"\n",
    "print(x)\n",
    "x = 'Hello ' + 'World'\n",
    "print(x)\n",
    "\n",
    "# Использование специальных символов\n",
    "x = \"I'm writing cool code.\"\n",
    "x = 'I\\'m writing cool code.'\n",
    "print(x)\n",
    "\n",
    "# Многострочный способ\n",
    "x = \"\"\"\n",
    "    Beautiful is better than ugly.\n",
    "    Explicit is better than implicit.\n",
    "    \"\"\"\n",
    "print(x)\n",
    "x = 'Beautiful is better than ugly.\\n' + \\\n",
    "    'Explicit is better than implicit.'\n",
    "\n",
    "x = 'Beautiful is better than ugly.\\n' \\\n",
    "    'Explicit is better than implicit.'\n",
    "\n",
    "x = (\n",
    "    'Beautiful is better than ugly.\\n' \n",
    "    'Explicit is better than implicit.')\n",
    "\n",
    "x = 'Beautiful is better than ugly.\\n\\\n",
    "Explicit is better than implicit.'\n",
    "print(x)"
   ]
  },
  {
   "cell_type": "markdown",
   "metadata": {
    "pycharm": {
     "name": "#%% md\n"
    }
   },
   "source": [
    "#### Форматирование строк\n",
    "https://www.python.org/dev/peps/pep-3101/"
   ]
  },
  {
   "cell_type": "code",
   "execution_count": 18,
   "metadata": {
    "pycharm": {
     "name": "#%%\n"
    }
   },
   "outputs": [
    {
     "name": "stdout",
     "output_type": "stream",
     "text": [
      "I'm 49 years old Ibrahim\n",
      "I'm 49 years old Ibrahim, Dear Ibrahim, bla\n",
      "I'm 49 years old Ibrahim, Dear Ibrahim, bla\n",
      "My name is Ibrahim :-{}\n",
      "I'm 49 years old Ibrahim\n",
      "I'm age=49 years old name=Ibrahim\n",
      "I'm age='49' years old name='Ibrahim'\n",
      "I'm Ibrahim\n",
      "I'm 49 years old Ibrahim\n",
      "\n",
      "Numbers\n",
      "0.333\n",
      "+100500\n",
      "    100500\n",
      "0000100500\n",
      "+000100500\n",
      "1.00111e+11\n",
      "10,011,111,199,999,111\n",
      "0.33\n",
      "00000.3333\n",
      "33.333333%\n",
      "33.3%\n",
      "\n",
      "More things\n",
      "__Ibrahim__\n",
      "  Ibrahim  \n",
      "Ibrahim___\n",
      "___Ibrahim\n"
     ]
    }
   ],
   "source": [
    "name = 'Ibrahim'\n",
    "age = '49'\n",
    "\n",
    "# Format\n",
    "print(\"I'm {age} years old {name}\".format(age=age, name=name))\n",
    "print(\"I'm {0} years old {1}, Dear {1}, bla\".format(age, name))\n",
    "print(\"I'm {} years old {}, Dear {}, bla\".format(age, name, name))\n",
    "print(\"My name is {0} :-{{}}\".format(name))\n",
    "\n",
    "# Prefered format\n",
    "print(f\"I'm {age} years old {name}\")\n",
    "print(f\"I'm age={age} years old name={name}\")\n",
    "print(f\"I'm {age=} years old {name=}\")\n",
    "\n",
    "\n",
    "# Alternative\n",
    "print(\"I'm %s\" % name)\n",
    "print(\"I'm %s years old %s\" % (age, name))\n",
    "\n",
    "# Numbers\n",
    "print('\\nNumbers')\n",
    "print('{0:.3}'.format(1/3))\n",
    "print('{0:+}'.format(100500))\n",
    "print('{0:=10}'.format(100500))\n",
    "print('{0:=010}'.format(100500))\n",
    "print('{0:=+010}'.format(100500))\n",
    "print('{0:g}'.format(100111111111))\n",
    "print('{0:,}'.format(10011111199999111))\n",
    "print('{0:.2f}'.format(1/3))\n",
    "print('{:010.4f}'.format(1/3))\n",
    "print('{:%}'.format(1/3))\n",
    "print('{:.1%}'.format(1/3))\n",
    "\n",
    "# More things\n",
    "print('\\nMore things')\n",
    "print('{0:_^11}'.format(name))\n",
    "print('{0:^11}'.format(name))\n",
    "print('{0:_<10}'.format(name))\n",
    "print('{0:_>10}'.format(name))"
   ]
  },
  {
   "cell_type": "markdown",
   "metadata": {
    "pycharm": {
     "name": "#%% md\n"
    }
   },
   "source": [
    "## 3.4 Многострочный код"
   ]
  },
  {
   "cell_type": "code",
   "execution_count": 21,
   "metadata": {
    "pycharm": {
     "name": "#%%\n"
    }
   },
   "outputs": [
    {
     "name": "stdout",
     "output_type": "stream",
     "text": [
      "10\n",
      "10\n",
      "10\n",
      "10\n",
      "Veryveryveryveryveryveryveryveryveryveryveryvery long string\n",
      "Veryveryveryveryveryveryveryveryveryveryveryvery long string\n",
      "Veryveryveryveryveryveryveryveryveryveryveryvery long string\n"
     ]
    }
   ],
   "source": [
    "x = 10\n",
    "print(x)\n",
    "\n",
    "# Альтернативы\n",
    "x = 10;\n",
    "print(x);\n",
    "\n",
    "x = 10; print(x)\n",
    "\n",
    "print\\\n",
    "(x)\n",
    "print('Veryveryveryveryveryveryveryveryveryveryveryvery ' \\\n",
    "      'long string')\n",
    "print('Veryveryveryveryveryveryveryveryveryveryveryvery ' + \n",
    "      'long string')\n",
    "print('Veryveryveryveryveryveryveryveryveryveryveryvery ' \n",
    "      'long string')"
   ]
  },
  {
   "cell_type": "code",
   "execution_count": 27,
   "metadata": {
    "pycharm": {
     "name": "#%%\n"
    }
   },
   "outputs": [],
   "source": []
  },
  {
   "cell_type": "markdown",
   "metadata": {
    "pycharm": {
     "name": "#%% md\n"
    }
   },
   "source": [
    "## Отступы: боль ли это?\n",
    "Предложения, идущие вместе, должны иметь одинаковый отступ. Каждый такой набор предложений называется блоком.\n",
    "\n",
    "**Не смешивайте пробелы и символы табуляции в отступах**. Рекомендуется использовать одиночную табуляцию или **четыре пробела** для каждого уровня отступа."
   ]
  },
  {
   "cell_type": "code",
   "execution_count": 28,
   "metadata": {
    "pycharm": {
     "name": "#%%\n"
    }
   },
   "outputs": [
    {
     "ename": "IndentationError",
     "evalue": "unexpected indent (312479578.py, line 2)",
     "output_type": "error",
     "traceback": [
      "\u001b[0;36m  Cell \u001b[0;32mIn [28], line 2\u001b[0;36m\u001b[0m\n\u001b[0;31m    print('Значение составляет ', i) # Ошибка! Пробел в начале строки\u001b[0m\n\u001b[0m    ^\u001b[0m\n\u001b[0;31mIndentationError\u001b[0m\u001b[0;31m:\u001b[0m unexpected indent\n"
     ]
    }
   ],
   "source": [
    "i = 5\n",
    " print('Значение составляет ', i) # Ошибка! Пробел в начале строки\n",
    "print('Я повторяю, значение составляет ', i)"
   ]
  },
  {
   "cell_type": "markdown",
   "metadata": {
    "pycharm": {
     "name": "#%% md\n"
    }
   },
   "source": [
    "## 3.5 if __name__ == '__main__'"
   ]
  },
  {
   "cell_type": "code",
   "execution_count": 35,
   "metadata": {
    "pycharm": {
     "name": "#%%\n"
    }
   },
   "outputs": [],
   "source": [
    "if __name__ == '__main__':\n",
    "    print('Hello World!')"
   ]
  },
  {
   "cell_type": "code",
   "execution_count": 32,
   "metadata": {},
   "outputs": [
    {
     "name": "stdout",
     "output_type": "stream",
     "text": [
      "math\n"
     ]
    }
   ],
   "source": [
    "import math\n",
    "print(math.__name__)"
   ]
  },
  {
   "cell_type": "markdown",
   "metadata": {
    "pycharm": {
     "name": "#%% md\n"
    }
   },
   "source": [
    "## 3.6 Задачи\n",
    "### 1. Welcome to Python\n",
    " **Дано:** имя и фамилия.\n",
    " \n",
    " **Задание:** написать программу, которая будет приветствовать нового человека в мире Python.\n",
    "     Текст приветсвия: Hello **NAME SURNAME**! You just delved into Python. Great start!\n",
    "     \n",
    " **Пример:**\n",
    "     Hello Ibrahim Petrov! You just delved into Python. Great start!\n",
    " \n",
    " ### 2. Python art\n",
    " **Дано:** маркер (символ) и толщина фигуры.\n",
    " \n",
    " **Задание:** написать программу, которая будет отображать заданную фигуру.\n",
    " \n",
    " **Пример:** Маркер = **H**, толщина **5**.\n",
    "                        "
   ]
  },
  {
   "cell_type": "code",
   "execution_count": null,
   "metadata": {
    "pycharm": {
     "name": "#%% raw\n"
    }
   },
   "outputs": [],
   "source": [
    "    H    \n",
    "   HHH   \n",
    "  HHHHH  \n",
    " HHHHHHH \n",
    "HHHHHHHHH\n",
    "  HHHHH               HHHHH             \n",
    "  HHHHH               HHHHH             \n",
    "  HHHHH               HHHHH             \n",
    "  HHHHH               HHHHH             \n",
    "  HHHHH               HHHHH             \n",
    "  HHHHH               HHHHH             \n",
    "  HHHHHHHHHHHHHHHHHHHHHHHHH   \n",
    "  HHHHHHHHHHHHHHHHHHHHHHHHH   \n",
    "  HHHHHHHHHHHHHHHHHHHHHHHHH   \n",
    "  HHHHH               HHHHH             \n",
    "  HHHHH               HHHHH             \n",
    "  HHHHH               HHHHH             \n",
    "  HHHHH               HHHHH             \n",
    "  HHHHH               HHHHH             \n",
    "  HHHHH               HHHHH             \n",
    "                    HHHHHHHHH \n",
    "                     HHHHHHH  \n",
    "                      HHHHH   \n",
    "                       HHH    \n",
    "                        H "
   ]
  },
  {
   "cell_type": "code",
   "execution_count": null,
   "metadata": {
    "pycharm": {
     "name": "#%%\n"
    }
   },
   "outputs": [],
   "source": [
    "thickness = 5\n",
    "c = 'H'\n",
    "\n",
    "#Top Cone\n",
    "for i in range(thickness):\n",
    "    print((c*i).______(thickness-1) + c + (c*i).______(thickness-1))\n",
    "\n",
    "#Top Pillars\n",
    "for i in range(thickness+1):\n",
    "    print((c*thickness).______(thickness*2) + (c*thickness).______(thickness*6))\n",
    "\n",
    "#Middle Belt\n",
    "for i in range((thickness+1)//2):\n",
    "    print((c*thickness*5).______(thickness*6))    \n",
    "\n",
    "#Bottom Pillars\n",
    "for i in range(thickness+1):\n",
    "    print((c*thickness).______(thickness*2) + (c*thickness).______(thickness*6))    \n",
    "\n",
    "#Bottom Cone\n",
    "for i in range(thickness):\n",
    "    print(((c*(thickness-i-1)).______(thickness) + c + (c*(thickness-i-1)).______(thickness)).______(thickness*6))  "
   ]
  },
  {
   "cell_type": "markdown",
   "metadata": {
    "pycharm": {
     "name": "#%% md\n"
    }
   },
   "source": [
    " ### 3. Заголовок\n",
    " **Дано:** текст любой длины.\n",
    " \n",
    " **Задание:** написать программу, которая выведет заголовок, используя заданный текст.\n",
    " Подсказка используйте метод **title**.\n",
    " \n",
    " **Пример:** text = 'hello world'; результат = Hello World\n",
    " \n",
    " ### 4. Форматированный вывод денежной суммы\n",
    " **Дано:** денежная сумма (amount > 0).\n",
    " \n",
    " **Задание:** написать программу, которая распечатает число в принятом денежном формате **XXX,XXX.XX**.\n",
    " \n",
    " \n",
    " **Пример:** amount = 100500.157; результат = 100,500.16\n",
    " \n",
    " ### [Junior] 5. Дизайнер ковриков\n",
    " Дизайнер составил шаблон домашних ковриков. Для массового выпуска ковриков ему нужно уметь быстро составлять макет произвольного размера. Известно, что длина коврика всегда больше в 3 раза чем его ширина (**W = 3 * H**).\n",
    " \n",
    " **Дано:** ширина коврика.\n",
    " \n",
    " **Задание:** написать программу, которая будет составлять макет коврика для его дальнейшего производства.\n",
    " \n",
    " **Примеры:** "
   ]
  },
  {
   "cell_type": "code",
   "execution_count": null,
   "metadata": {
    "pycharm": {
     "name": "#%% raw\n"
    }
   },
   "outputs": [],
   "source": [
    "    Size: 7 x 21 \n",
    "    ---------.|.---------\n",
    "    ------.|..|..|.------\n",
    "    ---.|..|..|..|..|.---\n",
    "    -------WELCOME-------\n",
    "    ---.|..|..|..|..|.---\n",
    "    ------.|..|..|.------\n",
    "    ---------.|.---------\n",
    "    \n",
    "    Size: 11 x 33\n",
    "    ---------------.|.---------------\n",
    "    ------------.|..|..|.------------\n",
    "    ---------.|..|..|..|..|.---------\n",
    "    ------.|..|..|..|..|..|..|.------\n",
    "    ---.|..|..|..|..|..|..|..|..|.---\n",
    "    -------------WELCOME-------------\n",
    "    ---.|..|..|..|..|..|..|..|..|.---\n",
    "    ------.|..|..|..|..|..|..|.------\n",
    "    ---------.|..|..|..|..|.---------\n",
    "    ------------.|..|..|.------------\n",
    "    ---------------.|.---------------"
   ]
  },
  {
   "cell_type": "markdown",
   "metadata": {
    "pycharm": {
     "name": "#%% md\n"
    }
   },
   "source": [
    " ### [Junior+] 6. Произведение цифр\n",
    " **Дано:** целое число.\n",
    " \n",
    " **Задание:** написать программу, которая перемножит все цифры заданного числа (0 - исключить).\n",
    " \n",
    " \n",
    " **Примеры:** \n",
    " 1) value = 123405, результат = 120\n",
    " 2) value = 999, результат = 729\n",
    " 3) value = 1000, результат = 1\n",
    " 4) value = 1111, результат = 1"
   ]
  },
  {
   "cell_type": "markdown",
   "metadata": {
    "pycharm": {
     "name": "#%% md\n"
    }
   },
   "source": [
    "### Решение задания №2"
   ]
  },
  {
   "cell_type": "code",
   "execution_count": null,
   "metadata": {
    "collapsed": true,
    "jupyter": {
     "outputs_hidden": true
    },
    "pycharm": {
     "name": "#%%\n"
    }
   },
   "outputs": [],
   "source": [
    "thickness = 5\n",
    "c = 'H'\n",
    "\n",
    "#Top Cone\n",
    "for i in range(thickness):\n",
    "    print((c*i).rjust(thickness-1) + c + (c*i).ljust(thickness-1))\n",
    "\n",
    "#Top Pillars\n",
    "for i in range(thickness+1):\n",
    "    print((c*thickness).center(thickness*2) + (c*thickness).center(thickness*6))\n",
    "\n",
    "#Middle Belt\n",
    "for i in range((thickness+1)//2):\n",
    "    print((c*thickness*5).center(thickness*6))    \n",
    "\n",
    "#Bottom Pillars\n",
    "for i in range(thickness+1):\n",
    "    print((c*thickness).center(thickness*2) + (c*thickness).center(thickness*6))    \n",
    "\n",
    "#Bottom Cone\n",
    "for i in range(thickness):\n",
    "    print(((c*(thickness-i-1)).rjust(thickness) + c + (c*(thickness-i-1)).ljust(thickness)).rjust(thickness*6))  "
   ]
  },
  {
   "cell_type": "markdown",
   "metadata": {
    "pycharm": {
     "name": "#%% md\n"
    }
   },
   "source": [
    "### Решение задания №5"
   ]
  },
  {
   "cell_type": "code",
   "execution_count": null,
   "metadata": {
    "pycharm": {
     "name": "#%%\n"
    }
   },
   "outputs": [],
   "source": [
    "height = 11\n",
    "width = height * 3\n",
    "\n",
    "for stick_count in range(1, height, 2):\n",
    "    print(('.|.' * stick_count).center(width, '-'))\n",
    "\n",
    "print('WELCOME'.center(width, '-'))\n",
    "\n",
    "for stick_count in range(height-2, 0, -2):\n",
    "    print(('.|.' * stick_count).center(width, '-'))\n"
   ]
  }
 ],
 "metadata": {
  "kernelspec": {
   "display_name": "Python 3 (ipykernel)",
   "language": "python",
   "name": "python3"
  },
  "language_info": {
   "codemirror_mode": {
    "name": "ipython",
    "version": 3
   },
   "file_extension": ".py",
   "mimetype": "text/x-python",
   "name": "python",
   "nbconvert_exporter": "python",
   "pygments_lexer": "ipython3",
   "version": "3.10.6"
  }
 },
 "nbformat": 4,
 "nbformat_minor": 4
}
