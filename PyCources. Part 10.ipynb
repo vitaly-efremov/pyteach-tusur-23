{
 "cells": [
  {
   "cell_type": "markdown",
   "metadata": {},
   "source": [
    "# 10. Функциональные возможности Python. Итераторы.\n",
    "\n",
    "\n",
    "## 10.1 Функция map"
   ]
  },
  {
   "cell_type": "code",
   "execution_count": 10,
   "metadata": {},
   "outputs": [
    {
     "name": "stdout",
     "output_type": "stream",
     "text": [
      "ord(s) = 115\n",
      "1. Result:  [115, 112, 97, 109]\n",
      "2. Result:  [115, 112, 97, 109]\n",
      "3. Result:  [115, 112, 97, 109]\n",
      "3.1 Result:  []\n",
      "4. Result:  [115, 112, 97, 109]\n",
      "4.1 Result:  []\n"
     ]
    }
   ],
   "source": [
    "print('ord(s) =', ord('s'))\n",
    "\n",
    "word = 'spam'\n",
    "\n",
    "# версия (1) цикл\n",
    "result_array = []\n",
    "for c in word:\n",
    "    result_array.append(ord(c))\n",
    "\n",
    "print('1. Result: ', result_array)\n",
    "\n",
    "# версия (2) генератор списков\n",
    "result_array = [ord(c) for c in word]\n",
    "print('2. Result: ', result_array)\n",
    "\n",
    "# версия (3) map\n",
    "result_array = map(ord, word)\n",
    "print('3. Result: ', list(result_array))\n",
    "print('3.1 Result: ', list(result_array))\n",
    "\n",
    "# версия (4) генератор \n",
    "result_array = (ord(c) for c in word)\n",
    "print('4. Result: ', list(result_array))\n",
    "print('4.1 Result: ', list(result_array))"
   ]
  },
  {
   "cell_type": "code",
   "execution_count": 11,
   "metadata": {},
   "outputs": [
    {
     "name": "stdout",
     "output_type": "stream",
     "text": [
      "1. Array:  [0, 1, 4, 9, 16, 25, 36, 49, 64, 81]\n",
      "2. Array:  [0, 1, 4, 9, 16, 25, 36, 49, 64, 81]\n",
      "3. Array:  [0, 1, 4, 9, 16, 25, 36, 49, 64, 81]\n"
     ]
    }
   ],
   "source": [
    "array = [x ** 2 for x in range(10)]\n",
    "print('1. Array: ', array)\n",
    "\n",
    "array = map(lambda x: x ** 2, range(10))\n",
    "print('2. Array: ', list(array))\n",
    "\n",
    "array = (x ** 2 for x in range(10) if x > 2)\n",
    "print('3. Array: ', list(array))\n"
   ]
  },
  {
   "cell_type": "code",
   "execution_count": 23,
   "metadata": {},
   "outputs": [
    {
     "name": "stdout",
     "output_type": "stream",
     "text": [
      "1. Array:  ['Pert', 'Kozma']\n",
      "2. Array:  [('Pert', 'Ivanov', 'Ivanovich'), ('Kozma', 'Prutkov', 'Fedorovich')]\n",
      "3. Array:  ['Pert', 'Kozma']\n",
      "4. Array:  ['Pert', 'Kozma']\n",
      "('Pert', 'Ivanov', 'Ivanovich')\n",
      "Pert\n"
     ]
    },
    {
     "data": {
      "text/plain": [
       "'Pert'"
      ]
     },
     "execution_count": 26,
     "metadata": {},
     "output_type": "execute_result"
    }
   ],
   "source": [
    "from operator import itemgetter\n",
    "\n",
    "people = [('Pert', 'Ivanov', 'Ivanovich'), ('Kozma', 'Prutkov', 'Fedorovich')]\n",
    "\n",
    "names = [man[0] for man in people]\n",
    "print('1. Array: ', names)\n",
    "\n",
    "names = [name for name, _, _ in people]\n",
    "print('2. Array: ', names)\n",
    "\n",
    "names = map(lambda x: x[0], people)\n",
    "print('3. Array: ', list(names))\n",
    "\n",
    "names = map(itemgetter(0), people)\n",
    "print('4. Array: ', list(names))\n",
    "\n",
    "first_one = people[0]\n",
    "print(first_one)\n",
    "index_function = itemgetter(0) #  = [0]\n",
    "index_function(first_one) # -> 'Pert'\n",
    "\n",
    "person = {'name': 'Pert', 'surname': 'Ivanov'}\n",
    "names = map(itemgetter('name'), people)\n",
    "print(person['name'])\n",
    "index_function = itemgetter('name') #  = ['name']\n",
    "index_function(person)"
   ]
  },
  {
   "cell_type": "code",
   "execution_count": 7,
   "metadata": {},
   "outputs": [
    {
     "name": "stdout",
     "output_type": "stream",
     "text": [
      "[14, 10, 19, 23]\n",
      "[14, 10, 19, 23]\n",
      "[14, 10, 19, 23]\n"
     ]
    }
   ],
   "source": [
    "a = [1, 2, 3, 4]\n",
    "b = [17, 12, 11, 10]\n",
    "c = [-4, -4, 5, 9]\n",
    "\n",
    "array = map(\n",
    "    lambda a_element, b_element, c_element: a_element + b_element + c_element, \n",
    "    a, b, c\n",
    ")\n",
    "array = map(lambda x, y, z: x + y + z, a, b, c)\n",
    "print(list(array))\n",
    "\n",
    "array = [x + y + z for x, y, z in zip(a, b, c)]\n",
    "array = map(sum, zip(a, b, c))\n",
    "print(list(array))\n",
    "\n",
    "collections = (a, b, c)\n",
    "array = map(sum, zip(*collections))  # zip(a, b, c)\n",
    "print(list(array))\n"
   ]
  },
  {
   "cell_type": "code",
   "execution_count": 37,
   "metadata": {},
   "outputs": [
    {
     "name": "stdout",
     "output_type": "stream",
     "text": [
      "[2, 1, 0, 1, 2]\n",
      "8\n",
      "[1, 8, 81]\n",
      "[1, 8, 81]\n",
      "[1, 8, 81]\n"
     ]
    }
   ],
   "source": [
    "array = map(abs, [-2, -1, 0, 1, 2])\n",
    "print(list(array))\n",
    "\n",
    "print(pow(2, 3))\n",
    "array = map(pow, [1, 2, 3], [2, 3, 4, 5])\n",
    "print(list(array))\n",
    "\n",
    "array = [x ** y for x, y in zip([1, 2, 3], [2, 3, 4, 5])] \n",
    "print(list(array))\n",
    "\n",
    "array = map(lambda x: pow(*x), zip([1, 2, 3], [2, 3, 4, 5]))\n",
    "print(list(array))"
   ]
  },
  {
   "cell_type": "markdown",
   "metadata": {},
   "source": [
    "## 10.2 Функция filter"
   ]
  },
  {
   "cell_type": "code",
   "execution_count": 40,
   "metadata": {},
   "outputs": [
    {
     "name": "stdout",
     "output_type": "stream",
     "text": [
      "1. Array:  [0, 2, 4]\n",
      "2. Array:  [0, 2, 4]\n",
      "[0, 2, 4]\n"
     ]
    }
   ],
   "source": [
    "array = [x for x in range(5) if x % 2 == 0]\n",
    "print('1. Array: ', array)\n",
    "\n",
    "# 0, 1, 2, 3, 4\n",
    "# T, F, T, F, T\n",
    "array = filter(lambda x: x % 2 == 0, range(5))\n",
    "print('2. Array: ', list(array))\n",
    "\n",
    "print(list(range(0, 5, 2))) # [::2]"
   ]
  },
  {
   "cell_type": "code",
   "execution_count": 9,
   "metadata": {},
   "outputs": [
    {
     "name": "stdout",
     "output_type": "stream",
     "text": [
      "1. Array:  [0, 4, 16, 36, 64]\n",
      "2. Array:  [0, 4, 16, 36, 64]\n"
     ]
    }
   ],
   "source": [
    "array = [x ** 2 for x in range(10) if x % 2 == 0]\n",
    "print('1. Array: ', array)\n",
    "\n",
    "filtered_elements = filter(lambda x: x % 2 == 0, range(10))\n",
    "array = map(lambda x: x**2, filtered_elements)\n",
    "\n",
    "array = map(lambda x: x**2, \n",
    "            filter(lambda x: x % 2 == 0, range(10)))\n",
    "print('2. Array: ', list(array))"
   ]
  },
  {
   "cell_type": "code",
   "execution_count": 47,
   "metadata": {},
   "outputs": [
    {
     "name": "stdout",
     "output_type": "stream",
     "text": [
      "1. Array:  [1, 'Sam', 'Jone', 'Petya']\n",
      "2. Array:  [1, 'Sam', 'Jone', 'Petya']\n",
      "3. Array:  [1, 'Sam', 'Jone', 'Petya']\n",
      "4. Array:  [1, 'Sam', 'Jone', 'Petya']\n"
     ]
    }
   ],
   "source": [
    "array = [1, 0, '', None, 'Sam', 'Jone', 'Petya']\n",
    "\n",
    "result_array = [element for element in array if element]\n",
    "print('1. Array: ', list(result_array))\n",
    "\n",
    "result_array = filter(lambda x: bool(x), array)\n",
    "print('2. Array: ', list(result_array))\n",
    "\n",
    "result_array = filter(bool, array)\n",
    "print('3. Array: ', list(result_array))\n",
    "\n",
    "result_array = filter(None, array)\n",
    "print('4. Array: ', list(result_array))\n"
   ]
  },
  {
   "cell_type": "code",
   "execution_count": 10,
   "metadata": {},
   "outputs": [
    {
     "name": "stdout",
     "output_type": "stream",
     "text": [
      "48.1 ns ± 0.49 ns per loop (mean ± std. dev. of 7 runs, 10,000,000 loops each)\n"
     ]
    }
   ],
   "source": [
    "%timeit filter(None, array)"
   ]
  },
  {
   "cell_type": "markdown",
   "metadata": {},
   "source": [
    "## 10.3 Функция reduce\n",
    "**from functools import reduce**"
   ]
  },
  {
   "cell_type": "code",
   "execution_count": 13,
   "metadata": {},
   "outputs": [
    {
     "name": "stdout",
     "output_type": "stream",
     "text": [
      "1. Array = [1, 2, 3, 4, 5, 6, 7, 8, 9] , sum = 55\n",
      "55\n",
      "1.1 Array = [1, 2, 3, 4, 5, 6, 7, 8, 9] , sum = 45\n",
      "2. Array = [1, 2, 3, 4, 5, 6, 7, 8, 9] , multiplication = 362880\n"
     ]
    }
   ],
   "source": [
    "from functools import reduce\n",
    "\n",
    "array = range(1, 10)\n",
    "total = reduce(lambda x, y: x + y, array, 10)\n",
    "print('1. Array =', list(array), ', sum =', total)\n",
    "print(sum(array) + 10)\n",
    "\n",
    "from operator import add, mul\n",
    "total = reduce(add, array)\n",
    "print('1.1 Array =', list(array), ', sum =', total)\n",
    "\n",
    "total = reduce(mul, array)\n",
    "# total = reduce(mul, array, 1)\n",
    "print('2. Array =', list(array), ', multiplication =', total)"
   ]
  },
  {
   "cell_type": "code",
   "execution_count": 50,
   "metadata": {},
   "outputs": [
    {
     "data": {
      "text/plain": [
       "113"
      ]
     },
     "execution_count": 51,
     "metadata": {},
     "output_type": "execute_result"
    }
   ],
   "source": [
    "reduce(lambda x, y: x + y, [47, 11, 42, 13])"
   ]
  },
  {
   "cell_type": "markdown",
   "metadata": {},
   "source": [
    "<img src='http://www.python-course.eu/images/reduce_diagram.png'/>"
   ]
  },
  {
   "cell_type": "code",
   "execution_count": 52,
   "metadata": {},
   "outputs": [
    {
     "data": {
      "text/plain": [
       "123"
      ]
     },
     "execution_count": 52,
     "metadata": {},
     "output_type": "execute_result"
    }
   ],
   "source": [
    "reduce(lambda x, y: x + y, [47, 11, 42, 13], 10)"
   ]
  },
  {
   "cell_type": "markdown",
   "metadata": {},
   "source": [
    "## 10.4 Функции-генераторы (yield)\n",
    "**Функция-генератор** - это функция, которая может возвращать значение, а позднее продолжить свою работу с того места, где она была приостановлена. Такая функция генерируют последовательность значений с течением времени, а также автоматически поддерживает протокол итераций и может использоваться в контексте итераций.\n",
    "\n",
    "В отличие от обычных функций, которые возвращают значение и завершают работу, функции-генераторы автоматически приостанавливают и возобновляют свое выполнение, при этом сохраняя информацию, необходимую для генерации значений. Вследствие этого они часто представляют собой удобную альтернативу вычислению всей серии значений заранее, с ручным сохранением и восстановлением состояния в классах. Функции-генераторы при приостановке автоматически сохраняют информацию о своем состоянии, под которым понимается вся локальная область видимости, со всеми локальными переменными, которая становится доступной сразу же, как только функция возобновляет работу.\n",
    "Главное отличие функций-генераторов от обычных функций состоит в том, что функция-генератор **поставляет значение**, а не возвращает его – инструкция **yield** приостанавливает работу функции и передает значение вызывающей программе, при этом сохраняется информация о состоянии, необходимая, чтобы возобновить работу с того места, где она была приостановлена.\n",
    "\n",
    "Функция-генератор возобновляет работу, ее выполнение продолжается с первой инструкции, следующей за инструкцией yield. Это позволяет функциям воспроизводить последовательности значений в течение долгого времени, вместо того чтобы создавать всю последовательность сразу и возвращать ее в виде некоторой конструкции, такой как список.\n",
    "\n",
    "**Модель данных. Итераторы.**\n",
    "Итерируемые объекты определяют метод ```__next__```, который либо возвращает следующий элемент в итерации, либо возбуждает особое исключение StopIteration по окончании итераций. Доступ к итератору объекта можно получить с помощью встроенной функции iter.\n",
    "\n",
    "**Генераторы – это объекты итераторов однократного применения.**"
   ]
  },
  {
   "cell_type": "code",
   "execution_count": 18,
   "metadata": {},
   "outputs": [
    {
     "name": "stdout",
     "output_type": "stream",
     "text": [
      "[0, 1, 4, 9, 16, 25, 36, 49, 64, 81]\n"
     ]
    }
   ],
   "source": [
    "def generate_squares(n: int) -> list[int]:\n",
    "    squares = []\n",
    "    for i in range(n):\n",
    "        squares.append(i ** 2)\n",
    "    return squares\n",
    "\n",
    "print(generate_squares(10))"
   ]
  },
  {
   "cell_type": "code",
   "execution_count": 19,
   "metadata": {
    "scrolled": true
   },
   "outputs": [
    {
     "name": "stdout",
     "output_type": "stream",
     "text": [
      "[0, 1, 4, 9, 16, 25, 36, 49, 64, 81]\n"
     ]
    }
   ],
   "source": [
    "def generate_squares(n):\n",
    "    return [i ** 2 for i in range(n)]\n",
    "\n",
    "print(generate_squares(10))"
   ]
  },
  {
   "cell_type": "code",
   "execution_count": 65,
   "metadata": {},
   "outputs": [
    {
     "name": "stdout",
     "output_type": "stream",
     "text": [
      "Version 1.\n",
      "0 1 4 9 16 25 36 49 64 81 \n",
      "Version 1.1\n",
      "0\n",
      "1\n",
      "4\n",
      "\n",
      "\n",
      "Version 2.\n",
      "0 1 4 9 16 25 36 49 64 81 \n",
      "Second attempt:\n"
     ]
    }
   ],
   "source": [
    "def generate_squares(n):\n",
    "    for i in range(n):\n",
    "        if i < 0:\n",
    "            continue\n",
    "        yield i ** 2\n",
    "\n",
    "print('Version 1.')\n",
    "for x in generate_squares(10):\n",
    "    print(x, end=' ')\n",
    "\n",
    "print('\\nVersion 1.1')\n",
    "squares = generate_squares(10)\n",
    "print(next(squares))\n",
    "print(next(squares))\n",
    "print(next(squares))\n",
    "\n",
    "\n",
    "print('\\n\\nVersion 2.')\n",
    "squares = (i ** 2 for i in range(10))\n",
    "for x in squares:\n",
    "    print(x, end=' ')\n",
    "\n",
    "print('\\nSecond attempt:')\n",
    "for x in squares:\n",
    "    print(x, end=' ')\n",
    "    "
   ]
  },
  {
   "cell_type": "code",
   "execution_count": 66,
   "metadata": {},
   "outputs": [
    {
     "name": "stdout",
     "output_type": "stream",
     "text": [
      "0\n",
      "12\n",
      "1\n",
      "11\n",
      "2\n",
      "None\n"
     ]
    },
    {
     "ename": "StopIteration",
     "evalue": "",
     "output_type": "error",
     "traceback": [
      "\u001b[0;31m---------------------------------------------------------------------------\u001b[0m",
      "\u001b[0;31mStopIteration\u001b[0m                             Traceback (most recent call last)",
      "Cell \u001b[0;32mIn [66], line 11\u001b[0m\n\u001b[1;32m      8\u001b[0m \u001b[38;5;28mprint\u001b[39m(gen\u001b[38;5;241m.\u001b[39msend(\u001b[38;5;241m12\u001b[39m))\n\u001b[1;32m      9\u001b[0m \u001b[38;5;28mprint\u001b[39m(gen\u001b[38;5;241m.\u001b[39msend(\u001b[38;5;241m11\u001b[39m))\n\u001b[0;32m---> 11\u001b[0m \u001b[38;5;28mprint\u001b[39m(\u001b[38;5;28;43mnext\u001b[39;49m\u001b[43m(\u001b[49m\u001b[43mgen\u001b[49m\u001b[43m)\u001b[49m)\n",
      "\u001b[0;31mStopIteration\u001b[0m: "
     ]
    }
   ],
   "source": [
    "def generator(n):\n",
    "    for i in range(n):\n",
    "        x = yield i\n",
    "        print(x)\n",
    "\n",
    "gen = generator(3)\n",
    "print(next(gen))\n",
    "print(gen.send(12))\n",
    "print(gen.send(11))\n",
    "\n",
    "print(next(gen))"
   ]
  },
  {
   "cell_type": "code",
   "execution_count": 31,
   "metadata": {},
   "outputs": [
    {
     "name": "stdout",
     "output_type": "stream",
     "text": [
      "0\n",
      "1\n",
      "4\n",
      "9\n"
     ]
    },
    {
     "ename": "StopIteration",
     "evalue": "",
     "output_type": "error",
     "traceback": [
      "\u001b[0;31m---------------------------------------------------------------------------\u001b[0m",
      "\u001b[0;31mStopIteration\u001b[0m                             Traceback (most recent call last)",
      "\u001b[0;32m<ipython-input-31-3dbf3324f52d>\u001b[0m in \u001b[0;36m<module>\u001b[0;34m()\u001b[0m\n\u001b[1;32m      5\u001b[0m \u001b[0mprint\u001b[0m\u001b[0;34m(\u001b[0m\u001b[0mnext\u001b[0m\u001b[0;34m(\u001b[0m\u001b[0mgen\u001b[0m\u001b[0;34m)\u001b[0m\u001b[0;34m)\u001b[0m\u001b[0;34m\u001b[0m\u001b[0m\n\u001b[1;32m      6\u001b[0m \u001b[0mprint\u001b[0m\u001b[0;34m(\u001b[0m\u001b[0mnext\u001b[0m\u001b[0;34m(\u001b[0m\u001b[0mgen\u001b[0m\u001b[0;34m)\u001b[0m\u001b[0;34m)\u001b[0m\u001b[0;34m\u001b[0m\u001b[0m\n\u001b[0;32m----> 7\u001b[0;31m \u001b[0mprint\u001b[0m\u001b[0;34m(\u001b[0m\u001b[0mnext\u001b[0m\u001b[0;34m(\u001b[0m\u001b[0mgen\u001b[0m\u001b[0;34m)\u001b[0m\u001b[0;34m)\u001b[0m\u001b[0;34m\u001b[0m\u001b[0m\n\u001b[0m",
      "\u001b[0;31mStopIteration\u001b[0m: "
     ]
    }
   ],
   "source": [
    "gen = (x ** 2 for x in range(4))\n",
    "    \n",
    "print(next(gen))\n",
    "# do not use magic methods directly, use next() instead\n",
    "print(gen.__next__())\n",
    "print(next(gen))\n",
    "print(next(gen))\n",
    "print(next(gen))"
   ]
  },
  {
   "cell_type": "code",
   "execution_count": 35,
   "metadata": {},
   "outputs": [
    {
     "name": "stdout",
     "output_type": "stream",
     "text": [
      "SSSS\n",
      "PPPP\n",
      "AAAA\n",
      "MMMM\n"
     ]
    },
    {
     "ename": "StopIteration",
     "evalue": "",
     "output_type": "error",
     "traceback": [
      "\u001b[0;31m---------------------------------------------------------------------------\u001b[0m",
      "\u001b[0;31mStopIteration\u001b[0m                             Traceback (most recent call last)",
      "\u001b[0;32m<ipython-input-35-f08ed636aa5b>\u001b[0m in \u001b[0;36m<module>\u001b[0;34m()\u001b[0m\n\u001b[1;32m      6\u001b[0m \u001b[0mprint\u001b[0m\u001b[0;34m(\u001b[0m\u001b[0mnext\u001b[0m\u001b[0;34m(\u001b[0m\u001b[0mgen\u001b[0m\u001b[0;34m)\u001b[0m\u001b[0;34m)\u001b[0m\u001b[0;34m\u001b[0m\u001b[0m\n\u001b[1;32m      7\u001b[0m \u001b[0mprint\u001b[0m\u001b[0;34m(\u001b[0m\u001b[0mnext\u001b[0m\u001b[0;34m(\u001b[0m\u001b[0mgen\u001b[0m\u001b[0;34m)\u001b[0m\u001b[0;34m)\u001b[0m\u001b[0;34m\u001b[0m\u001b[0m\n\u001b[0;32m----> 8\u001b[0;31m \u001b[0mprint\u001b[0m\u001b[0;34m(\u001b[0m\u001b[0mnext\u001b[0m\u001b[0;34m(\u001b[0m\u001b[0mgen\u001b[0m\u001b[0;34m)\u001b[0m\u001b[0;34m)\u001b[0m\u001b[0;34m\u001b[0m\u001b[0m\n\u001b[0m",
      "\u001b[0;31mStopIteration\u001b[0m: "
     ]
    }
   ],
   "source": [
    "array = [c * 4 for c in 'SPAM']\n",
    "gen = iter(array)\n",
    "\n",
    "print(next(gen))\n",
    "print(next(gen))\n",
    "print(next(gen))\n",
    "print(next(gen))\n",
    "print(next(gen))"
   ]
  },
  {
   "cell_type": "code",
   "execution_count": 37,
   "metadata": {},
   "outputs": [
    {
     "name": "stdout",
     "output_type": "stream",
     "text": [
      "140272692468640\n",
      "140272692468640\n"
     ]
    }
   ],
   "source": [
    "g = (i for i in range(10))\n",
    "    \n",
    "print(id(g))\n",
    "print(id(iter(g)))"
   ]
  },
  {
   "cell_type": "markdown",
   "metadata": {},
   "source": [
    "# Задачи\n",
    "\n",
    "## 1. Градусник.\n",
    " **Дано:** список градусов Цельсия.\n",
    " \n",
    " **Задание:** написать функцию, которая преобразовывает исходный список градусов Цельсия в список градусов Фаренгейта (https://ru.wikipedia.org/wiki/Градус_Фаренгейта).\n",
    " \n",
    " **Пример:**\n",
    " \n",
    "     [39.2, 36.5, 37.3, 37.8], результат: \n",
    "     [102.56, 97.700000000000003, 99.140000000000001, 100.03999999999999]\n",
    "     \n",
    "## 2. Длинномер.\n",
    " **Дано:** список строковых значений.\n",
    " \n",
    " **Задание:** написать функцию, которая возвращает список длин каждой строки.\n",
    " \n",
    " **Пример:**\n",
    " \n",
    "     ['Tina', 'Raj', 'Tom'], результат: [4, 3, 3]\n",
    "\n",
    "## 3. Рефакторинг.\n",
    " **Дано:** неоптимальный код.\n",
    " \n",
    " **Задание:** оптимизировать следующий код.\n",
    "\n",
    "```\n",
    "sentences = ['капитан джек воробей',\n",
    "             'капитан дальнего плавания',\n",
    "             'ваша лодка готова, капитан']\n",
    "\n",
    "cap_count = 0\n",
    "for sentence in sentences:\n",
    "    cap_count += sentence.count('капитан')\n",
    "\n",
    "print(cap_count)\n",
    "```\n",
    "\n",
    "## 4. Возведение в степень.\n",
    " **Дано:** два списка одинаковой длины: чисел X и степеней Y.\n",
    " \n",
    " **Задание:** написать функцию, которая возвращает список [x1^y1, x2^y2, ..], где X=[x1, x2, ..], Y=[y1, y2, ..].\n",
    " \n",
    " **Пример:**\n",
    " \n",
    "     X = [2, 3, 4], Y = [10, 11, 12], результат: [1024, 177147, 16777216]\n",
    "\n",
    "\n",
    "## 5. Ленивая функция.\n",
    " **Дано:** цело число n.\n",
    " \n",
    " **Задание:** написать функцию-генератор, которая будет \"лениво\" возвращать значения от 0 до n, определенные следующими правилами.\n",
    "\n",
    "Если \n",
    "    \n",
    "    x == 0 -> -10\n",
    "    x % 3 -> 45\n",
    "    x % 5 -> (x / 5) + 93\n",
    "\n",
    "Иначе\n",
    "    \n",
    "    -> x / 2\n",
    "   \n",
    " **Пример:**\n",
    " \n",
    "     n = 3, результат: list(f(n)) == [-10, 45, 45, 93.6]\n",
    "     n = 7, результат: list(f(n)) == [-10, 45, 45, 93.6, 45, 45, 94.2, 45]\n",
    "\n",
    "## 6. Самый большой прямоугольник.\n",
    " **Дано:** список высот всех столбцов в гистограмме (список целых чисел).\n",
    " \n",
    " **Задание:** У вас есть гистограмма. Попробуйте найти размер самого большого прямоугольника, который можно построить из столбцов гистограммы. Пример.\n",
    " <img src=\"https://d17mnqrx9pmt3e.cloudfront.net/media/missions/media/11a676d0c6b14f5e8e26cbadade00384/schema.png\"/>\n",
    "\n",
    " **Примеры:**\n",
    " \n",
    "        largest_histogram([5]) == 5\n",
    "        largest_histogram([5, 3]) == 6\n",
    "        largest_histogram([1, 1, 4, 1]) == 4\n",
    "        largest_histogram([1, 1, 3, 1]) == 4\n",
    "        largest_histogram([2, 1, 4, 5, 1, 3, 3]) == 8"
   ]
  }
 ],
 "metadata": {
  "kernelspec": {
   "display_name": "Python 3 (ipykernel)",
   "language": "python",
   "name": "python3"
  },
  "language_info": {
   "codemirror_mode": {
    "name": "ipython",
    "version": 3
   },
   "file_extension": ".py",
   "mimetype": "text/x-python",
   "name": "python",
   "nbconvert_exporter": "python",
   "pygments_lexer": "ipython3",
   "version": "3.10.6"
  }
 },
 "nbformat": 4,
 "nbformat_minor": 4
}
