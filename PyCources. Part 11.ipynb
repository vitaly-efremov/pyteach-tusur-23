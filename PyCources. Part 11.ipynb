{
 "cells": [
  {
   "cell_type": "markdown",
   "metadata": {},
   "source": [
    "# 11. Модули или как бороться со сложностью\n",
    "\n",
    "**Модуль** - самая крупная организационная программная единица в Python, которая вмещает в себя программный код и данные, готовые для многократного использования.\n",
    "\n",
    "Каждый файл – это отдельный модуль, и модули могут импортировать другие модули для доступа к именам, которые в них определены. Обработка модулей выполняется двумя инструкциями и одной важной функцией:\n",
    "\n",
    "import\n",
    "\n",
    "    Позволяет клиентам (импортерам) получать модуль целиком.\n",
    "  \n",
    "from\n",
    "    \n",
    "    Позволяет клиентам получать определенные имена из модуля.\n",
    "\n",
    "Цели использования модулей:\n",
    "\n",
    "    1) повторное использование программного кода;\n",
    "    \n",
    "    2) разделение системы пространств имен;\n",
    "   \n",
    "    3) реализация служб или данных для совместного пользования.\n",
    "    \n",
    "**Процесс импорта интерпретатором.**\n",
    "1. Отыскивает файл модуля.\n",
    "2. Компилирует в байт-код(если это необходимо).\n",
    "3. Запускает программный код модуля,чтобы создать объекты,которые он определяет."
   ]
  },
  {
   "cell_type": "markdown",
   "metadata": {},
   "source": [
    "## 11.1 Инструкция import"
   ]
  },
  {
   "cell_type": "code",
   "execution_count": 2,
   "metadata": {},
   "outputs": [
    {
     "data": {
      "text/plain": [
       "3"
      ]
     },
     "execution_count": 2,
     "metadata": {},
     "output_type": "execute_result"
    }
   ],
   "source": [
    "import random\n",
    "\n",
    "random.randint(1, 5)"
   ]
  },
  {
   "cell_type": "markdown",
   "metadata": {},
   "source": [
    "## 11.2 Инструкция from .. import"
   ]
  },
  {
   "cell_type": "code",
   "execution_count": 6,
   "metadata": {},
   "outputs": [
    {
     "data": {
      "text/plain": [
       "1"
      ]
     },
     "execution_count": 6,
     "metadata": {},
     "output_type": "execute_result"
    }
   ],
   "source": [
    "from random import randint, randrange\n",
    "\n",
    "randint(1, 5)"
   ]
  },
  {
   "cell_type": "code",
   "execution_count": 5,
   "metadata": {},
   "outputs": [
    {
     "data": {
      "text/plain": [
       "4"
      ]
     },
     "execution_count": 5,
     "metadata": {},
     "output_type": "execute_result"
    }
   ],
   "source": [
    "def generate_random(max_n=5):\n",
    "    from random import randint\n",
    "\n",
    "    return randint(1, max_n)\n",
    "\n",
    "generate_random(100)"
   ]
  },
  {
   "cell_type": "markdown",
   "metadata": {},
   "source": [
    "## 11.3 Опасная инструкция from .. import *"
   ]
  },
  {
   "cell_type": "code",
   "execution_count": 3,
   "metadata": {},
   "outputs": [
    {
     "data": {
      "text/plain": [
       "3"
      ]
     },
     "execution_count": 3,
     "metadata": {},
     "output_type": "execute_result"
    }
   ],
   "source": [
    "from random import *\n",
    "\n",
    "randint(1, 5)"
   ]
  },
  {
   "cell_type": "markdown",
   "metadata": {},
   "source": [
    "## 11.4 Пакеты\n",
    "**Пакеты** – это каталоги с модулями и специальным файлом ```__init__.py```, который показывает Python, что этот каталог особый, так как содержит модули Python.\n",
    "\n",
    "\n",
    "|---- world/\n",
    "\n",
    "        |---- __init__.py\n",
    "        |---- asia/\n",
    "              |---- __init__.py\n",
    "              |---- india/\n",
    "              |---- __init__.py\n",
    "              |---- foo.py\n",
    "        |---- africa/\n",
    "              |---- __init__.py\n",
    "              |---- madagascar/\n",
    "                    |---- __init__.py\n",
    "                    |---- bar.py"
   ]
  },
  {
   "cell_type": "markdown",
   "metadata": {},
   "source": [
    "# Задачи\n",
    "\n",
    "## 1. Случайности не случайны.\n",
    " **Дано:** n - целое число.\n",
    " \n",
    " **Задание:** написать функцию-генератор, которая возвращает n дробных чисел из диапазона [0, n].\n",
    " Используйте функцию random.uniform для генерации случайных чисел.\n",
    " \n",
    " **Пример:**\n",
    " \n",
    "     list(f(3)), результат: [0.460552766096591, 2.6440795402868016, 0.3830553232366699]\n",
    "     \n",
    "## 2. Ленивое объединение\n",
    " **Дано:** 2 списка произвольной длины.\n",
    " \n",
    " **Задание:** написать функцию, которая возвращает результат объединения этих списков. Используйте функцию itertools.chain.\n",
    " \n",
    " **Пример:**\n",
    " \n",
    "     list(f([1, 2], [3, 4])), результат: [1, 2, 3, 4]\n",
    "     \n",
    "## 3. Рефакторинг.\n",
    " **Дано:** неоптимальный код.\n",
    " \n",
    " **Задание:** оптимизировать следующий код.\n",
    "\n",
    "```\n",
    "\n",
    "def responses_creator(item_ids):\n",
    "    item_ids = [None] if item_ids is None else item_ids\n",
    "\n",
    "    responses = []\n",
    "    for item_id in item_ids:\n",
    "        new_response = dict(item_id=item_id)\n",
    "        responses.append(new_response)\n",
    "    return responses\n",
    "\n",
    "```"
   ]
  }
 ],
 "metadata": {
  "kernelspec": {
   "display_name": "Python 3 (ipykernel)",
   "language": "python",
   "name": "python3"
  },
  "language_info": {
   "codemirror_mode": {
    "name": "ipython",
    "version": 3
   },
   "file_extension": ".py",
   "mimetype": "text/x-python",
   "name": "python",
   "nbconvert_exporter": "python",
   "pygments_lexer": "ipython3",
   "version": "3.10.6"
  }
 },
 "nbformat": 4,
 "nbformat_minor": 4
}
