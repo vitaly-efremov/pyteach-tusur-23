{
 "cells": [
  {
   "cell_type": "markdown",
   "metadata": {},
   "source": [
    "## 9. Функции\n",
    "\n",
    "**Функции** – это многократно используемые фрагменты программы. Они позволяют дать имя определённому блоку команд с тем, чтобы в последствии запускать этот блок по указанному имени в любом месте программы и сколь угодно много раз. Это называется вызовом функции. Мы уже использовали много встроенных функций, как то len и range.\n",
    "\n",
    "Функции определяются при помощи зарезервированного слова def. После этого слова указывается имя функции, за которым следует пара скобок, в которых можно указать имена некоторых переменных, и заключительное двоеточие в конце строки. Далее следует блок команд (инструкций), составляющих функцию.\n",
    "\n",
    "**Сигнатура функции** — часть общего объявления функции, позволяющая средствам трансляции идентифицировать функцию среди других. \n",
    "Составляющие сигнатуры:\n",
    " \n",
    " 1) имя функции;\n",
    " \n",
    " 2) аргументы функции;\n",
    " \n",
    " 3) возвращаемые значения."
   ]
  },
  {
   "cell_type": "code",
   "execution_count": 4,
   "metadata": {},
   "outputs": [
    {
     "name": "stdout",
     "output_type": "stream",
     "text": [
      "Hi!\n",
      "\n",
      "Hi!\n",
      "\n"
     ]
    }
   ],
   "source": [
    "def say_hi():\n",
    "    print('Hi!')\n",
    "    print()\n",
    "\n",
    "say_hi()\n",
    "say_hi()"
   ]
  },
  {
   "cell_type": "markdown",
   "metadata": {},
   "source": [
    "## 9.1 Параметры функций\n",
    "\n",
    "Функции могут принимать параметры, т.е. некоторые значения, передаваемые функции для того, чтобы она что-либо сделала с ними. Эти параметры похожи на переменные, за исключением того, что значение этих переменных указывается при вызове функции, и во время работы функции им уже присвоены их значения.\n",
    "\n",
    "Параметры указываются в скобках при объявлении функции и разделяются запятыми. Аналогично мы передаём значения, когда вызываем функцию. Обратите внимание на терминологию: имена, указанные в объявлении функции, называются **параметрами**, тогда как значения, которые вы передаёте в функцию при её вызове, – **аргументами**."
   ]
  },
  {
   "cell_type": "code",
   "execution_count": 1,
   "metadata": {},
   "outputs": [
    {
     "name": "stdout",
     "output_type": "stream",
     "text": [
      "Hi, Petr!\n",
      "Hi, Masha!\n",
      "Hi, Petr!\n"
     ]
    }
   ],
   "source": [
    "def say_hi(name):\n",
    "    name = name.capitalize()\n",
    "    print('Hi, %s!' % name)\n",
    "\n",
    "say_hi('Petr')\n",
    "say_hi('masha')\n",
    "say_hi(name='Petr')"
   ]
  },
  {
   "cell_type": "code",
   "execution_count": 2,
   "metadata": {},
   "outputs": [
    {
     "name": "stdout",
     "output_type": "stream",
     "text": [
      "7 is max\n",
      "3 equals to 3\n",
      "3 equals to 3\n",
      "4 is max\n",
      "5 is max\n"
     ]
    }
   ],
   "source": [
    "def print_max(a, b): \n",
    "    if a > b:\n",
    "        print(a, 'is max') \n",
    "    elif a == b:\n",
    "        print(a, 'equals to', b)\n",
    "    else:\n",
    "        print(b, 'is max')\n",
    "\n",
    "print_max(6, 7)\n",
    "print_max(3, 3)\n",
    "print_max(a=3, b=3)\n",
    "print_max(b=4, a=3)\n",
    "\n",
    "x = 5\n",
    "y = 2\n",
    "print_max(x, y)"
   ]
  },
  {
   "cell_type": "code",
   "execution_count": 6,
   "metadata": {},
   "outputs": [
    {
     "name": "stdout",
     "output_type": "stream",
     "text": [
      "9 is max\n"
     ]
    }
   ],
   "source": [
    "def get_max_value(a, b): \n",
    "    if a > b:\n",
    "        return a\n",
    "    elif a == b:\n",
    "        return None\n",
    "    return b\n",
    "\n",
    "a = 5\n",
    "b = 9\n",
    "max_value = get_max_value(a, b)\n",
    "if max_value is None:\n",
    "    print(a, 'equals to', b)\n",
    "else:\n",
    "    print(max_value, 'is max')"
   ]
  },
  {
   "cell_type": "markdown",
   "metadata": {},
   "source": [
    "## 9.2 Локальные переменные\n",
    "\n",
    "При объявлении переменных внутри определения функции, они никоим образом не связаны с другими переменными с таким же именем за пределами функции – т.е. имена переменных являются локальными в функции. Это называется областью видимости переменной. **Область видимости всех переменных ограничена блоком**, в котором они объявлены, начиная с точки объявления имени."
   ]
  },
  {
   "cell_type": "code",
   "execution_count": 10,
   "metadata": {},
   "outputs": [
    {
     "name": "stdout",
     "output_type": "stream",
     "text": [
      "x = 10\n",
      "Replace x to 2\n",
      "Y: 10\n",
      "func(x) = 2\n",
      "x = 50\n"
     ]
    }
   ],
   "source": [
    "x = 50\n",
    "\n",
    "def func(x):\n",
    "    x = 10\n",
    "    my_value = 10\n",
    "    print('x =', x)\n",
    "    x = 2\n",
    "    print('Replace x to', x)\n",
    "    print('Y:', my_value)\n",
    "    return x\n",
    "\n",
    "\n",
    "print('func(x) =', func(x))\n",
    "print(f'x = {x}')"
   ]
  },
  {
   "cell_type": "code",
   "execution_count": 14,
   "metadata": {},
   "outputs": [
    {
     "name": "stdout",
     "output_type": "stream",
     "text": [
      "x = 50\n"
     ]
    }
   ],
   "source": [
    "x = 50\n",
    "\n",
    "def func():\n",
    "    print('x =', x)\n",
    "\n",
    "print('x =', x)"
   ]
  },
  {
   "cell_type": "markdown",
   "metadata": {},
   "source": [
    "## 9.3 Global и как с ним жить\n",
    "\n",
    "Чтобы присвоить некоторое значение переменной, определённой на высшем уровне программы (т.е. не в какой-либо области видимости, как то функции или классы), необходимо явно указать Python, что её имя не локально, а глобально (global). \n",
    "\n",
    "Без применения зарезервированного слова global невозможно присвоить значение переменной, определённой за пределами функции."
   ]
  },
  {
   "cell_type": "code",
   "execution_count": 9,
   "metadata": {},
   "outputs": [
    {
     "name": "stdout",
     "output_type": "stream",
     "text": [
      "<function func at 0x103fe3eb0>\n",
      "x = 50\n"
     ]
    }
   ],
   "source": [
    "x = 50\n",
    "\n",
    "def func():\n",
    "    global x\n",
    "    \n",
    "    print('x =', x)\n",
    "    x = 2\n",
    "    print('Replace x to', x)\n",
    "    \n",
    "print(func)\n",
    "print('x =', x)"
   ]
  },
  {
   "cell_type": "code",
   "execution_count": 15,
   "metadata": {},
   "outputs": [
    {
     "name": "stdout",
     "output_type": "stream",
     "text": [
      "11\n"
     ]
    }
   ],
   "source": [
    "def func(x):\n",
    "    x += 1\n",
    "    print(x)\n",
    "    \n",
    "func(10)"
   ]
  },
  {
   "cell_type": "markdown",
   "metadata": {},
   "source": [
    "## 9.4 Nonlocal\n",
    "**nonlocal** ограничивает область поиска областями видимости объемлющих функций; она требует, чтобы перечисленные в инструкции имена уже существовали, и позволяет присваивать им новые значения. В область поиска не входят глобальная и встроенная области видимости.\n",
    "\n",
    "**global** вынуждает интерпретатор начинать поиск имен с области объемлющего  модуля  и  позволяет  присваивать  переменным  новые  значения.  Область поиска простирается вплоть до встроенной области видимости, если искомое имя не будет найдено в модуле, при этом операция присваивания значений глобальным  именам всегда  будет  создавать  или изменять переменные в области видимости модуля.\n"
   ]
  },
  {
   "cell_type": "code",
   "execution_count": 24,
   "metadata": {},
   "outputs": [
    {
     "name": "stdout",
     "output_type": "stream",
     "text": [
      "x = 2\n",
      "inner print 8\n",
      "Replace x to 8\n",
      "10\n"
     ]
    }
   ],
   "source": [
    "x = 10\n",
    "\n",
    "def func():\n",
    "    x = 2\n",
    "    print('x =', x)\n",
    "    \n",
    "    def func_inner(): \n",
    "        def super_inner():\n",
    "            nonlocal x\n",
    "            x = 8\n",
    "        super_inner()\n",
    "        print('inner print', x)\n",
    "        \n",
    "    func_inner()\n",
    "    print('Replace x to', x)\n",
    "    \n",
    "func()\n",
    "print(x)"
   ]
  },
  {
   "cell_type": "code",
   "execution_count": 25,
   "metadata": {},
   "outputs": [
    {
     "name": "stdout",
     "output_type": "stream",
     "text": [
      "1 10\n",
      "2 10\n",
      "3 10\n"
     ]
    }
   ],
   "source": [
    "def tester(start):\n",
    "    state = start  # В каждом вызове сохраняется свое значение state\n",
    "    def nested(label):        \n",
    "        print(label, state) # в объемлющей области видимости\n",
    "    return nested\n",
    "\n",
    "f = tester(10)\n",
    "\n",
    "f(1)\n",
    "f(2)\n",
    "f(3)"
   ]
  },
  {
   "cell_type": "code",
   "execution_count": 22,
   "metadata": {},
   "outputs": [
    {
     "name": "stdout",
     "output_type": "stream",
     "text": [
      "<function tester.<locals>.nested at 0x10361e5f0>\n",
      "1 0\n",
      "2 1\n",
      "3 2\n"
     ]
    }
   ],
   "source": [
    "def tester(start):\n",
    "    state = start  # В каждом вызове сохраняется свое значение state\n",
    "    def nested(label):\n",
    "        nonlocal state      # Объект state находится \n",
    "\n",
    "        print(label, state) # в объемлющей области видимости\n",
    "        state += 1 # Изменит значение переменной, объявленной как nonlocal\n",
    "    return nested\n",
    "\n",
    "f = tester(0)\n",
    "print(f)\n",
    "f(1)\n",
    "f(2)\n",
    "f(3)"
   ]
  },
  {
   "cell_type": "markdown",
   "metadata": {},
   "source": [
    "## 9.5 Значения аргументов по умолчанию\n",
    "\n",
    "Зачастую часть параметров функций могут быть необязательными, и для них будут использоваться некоторые заданные значения по умолчанию, если пользователь не укажет собственных. Этого можно достичь с помощью значений аргументов по умолчанию. Их можно указать, добавив к имени параметра в определении функции оператор присваи- вания (=) с последующим значением.\n",
    "\n",
    "Обратите внимание, что значение по умолчанию должно быть константой."
   ]
  },
  {
   "cell_type": "code",
   "execution_count": 26,
   "metadata": {},
   "outputs": [
    {
     "name": "stdout",
     "output_type": "stream",
     "text": [
      "Hi, Petr!\n",
      "Hi, Masha!\n",
      "Hi, Mr/ms!\n"
     ]
    }
   ],
   "source": [
    "def say_hi(name):\n",
    "    if not name:\n",
    "        name = 'Mr/Ms'\n",
    "    name = name.capitalize()\n",
    "    print(f'Hi, {name}!')\n",
    "\n",
    "say_hi('Petr')\n",
    "say_hi('masha')\n",
    "say_hi(None)"
   ]
  },
  {
   "cell_type": "code",
   "execution_count": 3,
   "metadata": {},
   "outputs": [
    {
     "name": "stdout",
     "output_type": "stream",
     "text": [
      "Hi, Petr!\n",
      "Hi, Masha!\n",
      "Hi, Mr/ms!\n"
     ]
    }
   ],
   "source": [
    "def say_hi(name='Mr/Ms'):\n",
    "    name = name.capitalize()\n",
    "    print(f'Hi, {name}!')\n",
    "    \n",
    "say_hi('Petr')\n",
    "say_hi('masha')\n",
    "say_hi()"
   ]
  },
  {
   "cell_type": "code",
   "execution_count": 11,
   "metadata": {},
   "outputs": [
    {
     "data": {
      "text/plain": [
       "7.0"
      ]
     },
     "execution_count": 11,
     "metadata": {},
     "output_type": "execute_result"
    }
   ],
   "source": [
    "# def math_func(a, b, c, sigma) -> int:\n",
    "#     return (a + b * c) / sigma\n",
    "\n",
    "# def math_func(a, b, c) -> int:\n",
    "#     return math_func(a, b, c, 1)\n",
    "\n",
    "# def math_func(a, b) -> int:\n",
    "#     return math_func(a, b, 10, 1)\n",
    "\n",
    "def math_func(a, b, c=10, sigma=1) -> int:\n",
    "    return (a + b * c) / sigma\n",
    "\n",
    "\n",
    "math_func(1, 2, 3)"
   ]
  },
  {
   "cell_type": "code",
   "execution_count": 14,
   "metadata": {},
   "outputs": [
    {
     "name": "stdout",
     "output_type": "stream",
     "text": [
      "<function math_func at 0x1189c4820>\n",
      "3\n"
     ]
    }
   ],
   "source": [
    "def math_func(a, b, c, sigma) -> int:\n",
    "    return (a + b * c) / sigma\n",
    "\n",
    "def math_func(a, b, c) -> int:\n",
    "    return (a + b * c) / 1\n",
    "\n",
    "def math_func(a, b) -> int:\n",
    "    return (a + b * 10) / 1\n",
    "\n",
    "print(math_func)\n",
    "\n",
    "x = 1\n",
    "x = 2\n",
    "\n",
    "math_func = 1\n",
    "math_func = 2\n",
    "math_func = 3\n",
    "\n",
    "print(math_func)"
   ]
  },
  {
   "cell_type": "code",
   "execution_count": 20,
   "metadata": {},
   "outputs": [
    {
     "ename": "TypeError",
     "evalue": "'int' object is not callable",
     "output_type": "error",
     "traceback": [
      "\u001b[0;31m---------------------------------------------------------------------------\u001b[0m",
      "\u001b[0;31mTypeError\u001b[0m                                 Traceback (most recent call last)",
      "Cell \u001b[0;32mIn [20], line 2\u001b[0m\n\u001b[1;32m      1\u001b[0m \u001b[38;5;28mmax\u001b[39m \u001b[38;5;241m=\u001b[39m \u001b[38;5;241m1\u001b[39m\n\u001b[0;32m----> 2\u001b[0m \u001b[38;5;28;43mmax\u001b[39;49m\u001b[43m(\u001b[49m\u001b[43m[\u001b[49m\u001b[38;5;241;43m1\u001b[39;49m\u001b[43m,\u001b[49m\u001b[43m \u001b[49m\u001b[38;5;241;43m2\u001b[39;49m\u001b[43m]\u001b[49m\u001b[43m)\u001b[49m\n",
      "\u001b[0;31mTypeError\u001b[0m: 'int' object is not callable"
     ]
    }
   ],
   "source": [
    "max = 1\n",
    "max([1, 2])"
   ]
  },
  {
   "cell_type": "code",
   "execution_count": 23,
   "metadata": {},
   "outputs": [
    {
     "ename": "TypeError",
     "evalue": "max() missing 1 required positional argument: 'y'",
     "output_type": "error",
     "traceback": [
      "\u001b[0;31m---------------------------------------------------------------------------\u001b[0m",
      "\u001b[0;31mTypeError\u001b[0m                                 Traceback (most recent call last)",
      "Cell \u001b[0;32mIn [23], line 5\u001b[0m\n\u001b[1;32m      2\u001b[0m     \u001b[38;5;28;01mreturn\u001b[39;00m x \u001b[38;5;28;01mif\u001b[39;00m x \u001b[38;5;241m>\u001b[39m y \u001b[38;5;28;01melse\u001b[39;00m y\n\u001b[1;32m      4\u001b[0m \u001b[38;5;28mmax\u001b[39m(\u001b[38;5;241m1\u001b[39m, \u001b[38;5;241m2\u001b[39m)\n\u001b[0;32m----> 5\u001b[0m \u001b[38;5;28;43mmax\u001b[39;49m\u001b[43m(\u001b[49m\u001b[43m[\u001b[49m\u001b[38;5;241;43m1\u001b[39;49m\u001b[43m,\u001b[49m\u001b[43m \u001b[49m\u001b[38;5;241;43m2\u001b[39;49m\u001b[43m]\u001b[49m\u001b[43m)\u001b[49m\n",
      "\u001b[0;31mTypeError\u001b[0m: max() missing 1 required positional argument: 'y'"
     ]
    }
   ],
   "source": [
    "def max(x, y):\n",
    "    return x if x > y else y\n",
    "\n",
    "max(1, 2)\n",
    "max([1, 2])"
   ]
  },
  {
   "cell_type": "code",
   "execution_count": 24,
   "metadata": {},
   "outputs": [],
   "source": [
    "def max_values(x, y):\n",
    "    return x if x > y else y\n",
    "\n",
    "def min_values():\n",
    "    return x if x > y else y\n",
    "\n",
    "def max_values(x, y):\n",
    "    return x - y\n"
   ]
  },
  {
   "cell_type": "markdown",
   "metadata": {},
   "source": [
    "## 9.6 Именованные аргументы\n",
    "\n",
    "Если имеется некоторая функция с большим числом параметров, и при её вызове требуется указать только некоторые из них, значения этих параметров могут задаваться по их имени – это называется ключевые (именованные) параметры. В этом случае для передачи аргументов функции используется имя (ключ) вместо позиции (как было до сих пор).\n",
    "\n",
    "Есть два преимущества такого подхода: во-первых, использование функции становится легче, поскольку нет необходимости отслеживать порядок аргументов; во-вторых, можно задавать значения только некоторым избранным аргументам, при условии, что остальные параметры имеют значения аргумента по умолчанию."
   ]
  },
  {
   "cell_type": "code",
   "execution_count": 33,
   "metadata": {},
   "outputs": [
    {
     "name": "stdout",
     "output_type": "stream",
     "text": [
      "a = 3 , b = 5 , c = 7\n",
      "a = 3 , b = 7 , c = 10\n",
      "a = 3 , b = 7 , c = 10\n",
      "a = 25 , b = 5 , c = 24\n",
      "a = 100 , b = 5 , c = 50\n",
      "a = 2 , b = 5 , c = 10\n",
      "a = 1 , b = 2 , c = 10\n"
     ]
    }
   ],
   "source": [
    "def func(a, c=10, b=5):\n",
    "    print('a =', a, ', b =', b, ', c =', c)\n",
    "\n",
    "func(3, 7)\n",
    "func(a=3, b=abs(7))\n",
    "func(b=7, a=3)\n",
    "func(25, c=24)\n",
    "func(c=50, a=100)\n",
    "\n",
    "\n",
    "def func(*, a, c=10, b=5):\n",
    "    print('a =', a, ', b =', b, ', c =', c)\n",
    "\n",
    "func(a=2)\n",
    "func(a=1, b=2, c=10)"
   ]
  },
  {
   "cell_type": "markdown",
   "metadata": {},
   "source": [
    "## 9.7 Переменное число параметров"
   ]
  },
  {
   "cell_type": "code",
   "execution_count": 41,
   "metadata": {},
   "outputs": [
    {
     "name": "stdout",
     "output_type": "stream",
     "text": [
      "(1, 2, 3, 5, 6, 7)\n",
      "34\n",
      "numbers=(1, 2, 3)\n",
      "keywords={'vegetables': 50, 'fruits': 100}\n",
      "166\n",
      "9\n",
      "surname='Ivanov'\n"
     ]
    },
    {
     "data": {
      "text/plain": [
       "6"
      ]
     },
     "execution_count": 41,
     "metadata": {},
     "output_type": "execute_result"
    }
   ],
   "source": [
    "def total_v1(initial=0, *numbers, end): \n",
    "    count = initial\n",
    "    print(numbers)\n",
    "\n",
    "    for number in numbers: \n",
    "        count += number\n",
    "    return count\n",
    "\n",
    "\n",
    "print(total_v1(10, 1, 2, 3, 5, 6, 7, end=5))\n",
    "\n",
    "\n",
    "def total_v2(initial=5, *args, **kwargs):\n",
    "    return initial * 8\n",
    "\n",
    "def total_v2(initial=5, *numbers, **keywords): \n",
    "    count = initial\n",
    "    print(f'{numbers=}')\n",
    "    print(f'{keywords=}')\n",
    "    for number in numbers: \n",
    "        count += number\n",
    "    \n",
    "    for value in keywords.values():\n",
    "        count += value\n",
    "    \n",
    "    return count\n",
    "\n",
    "\n",
    "print(total_v2(10, 1, 2, 3, vegetables=50, fruits=100))\n",
    "\n",
    "def pow(x, power, *_):\n",
    "    return x ** power\n",
    "\n",
    "print(pow(3, 2, 8, 10))\n",
    "\n",
    "def get_person():\n",
    "    return 'Ivan', 'Ivanov', 'Ivanovich'\n",
    "\n",
    "_, surname, _= get_person()\n",
    "\n",
    "print(f'{surname=}')\n",
    "\n",
    "\n",
    "def total_v3(*numbers, initial=10, apples=10, **keywords): \n",
    "    count = initial\n",
    "    for number in numbers: \n",
    "        count += number\n",
    "    \n",
    "    for value in keywords.values():\n",
    "        count += value\n",
    "    \n",
    "    return count\n",
    "\n",
    "\n",
    "total_v3(1, 2, 3, initial=0, apples=5)"
   ]
  },
  {
   "cell_type": "code",
   "execution_count": 76,
   "metadata": {},
   "outputs": [
    {
     "name": "stdout",
     "output_type": "stream",
     "text": [
      "71\n",
      "66\n",
      "Hello\n",
      "Hello|World\n",
      "Hello|World|!\n",
      "1|2|3|4\n",
      "\n",
      "name -> Ivan\n",
      "surname -> Ivanov\n",
      "\n",
      "name -> Petr\n",
      "surname -> Petrov\n",
      "4412283584 4412539968\n",
      "-----\n",
      "1|2|3|4|"
     ]
    }
   ],
   "source": [
    "def total(*numbers, extra_number, initial=5): \n",
    "    count = initial\n",
    "\n",
    "    for number in numbers[:-1]: \n",
    "        count += number\n",
    "    \n",
    "    count += 2 * extra_number \n",
    "    print(count)\n",
    "\n",
    "total(10, 1, 2, 3, extra_number=50)\n",
    "total(1, 2, 3, extra_number=50, initial=10)\n",
    "\n",
    "def custom_print(*args, **kwargs):\n",
    "    # for arg in args:\n",
    "    #     print(arg)\n",
    "    print(*args, sep='|')\n",
    "    \n",
    "    for key, value in kwargs.items():\n",
    "        print(f'{key} -> {value}')\n",
    "\n",
    "custom_print('Hello')\n",
    "custom_print('Hello', 'World')\n",
    "custom_print('Hello', 'World', '!')\n",
    "\n",
    "elements = [1, 2, 3, 4]\n",
    "custom_print(*elements) # *[1, 2, 3, 4] -> 1, 2, 3, 4\n",
    "\n",
    "data = {'name': 'Petr', 'surname': 'Petrov'}\n",
    "custom_print(name='Ivan', surname='Ivanov')\n",
    "\n",
    "custom_print(**data) # **{'name': 'Petr', 'surname': 'Petrov'} -> name='Ivan', surname='Ivanov'\n",
    "\n",
    "copy_dict = dict(**data)\n",
    "print(id(data), id(copy_dict))\n",
    "\n",
    "print('-----')\n",
    "print(*elements, sep='|', end='|')\n",
    "\n"
   ]
  },
  {
   "cell_type": "code",
   "execution_count": 50,
   "metadata": {},
   "outputs": [
    {
     "name": "stdout",
     "output_type": "stream",
     "text": [
      "Help on built-in function print in module builtins:\n",
      "\n",
      "print(...)\n",
      "    print(value, ..., sep=' ', end='\\n', file=sys.stdout, flush=False)\n",
      "    \n",
      "    Prints the values to a stream, or to sys.stdout by default.\n",
      "    Optional keyword arguments:\n",
      "    file:  a file-like object (stream); defaults to the current sys.stdout.\n",
      "    sep:   string inserted between values, default a space.\n",
      "    end:   string appended after the last value, default a newline.\n",
      "    flush: whether to forcibly flush the stream.\n",
      "\n"
     ]
    }
   ],
   "source": [
    "help(print)"
   ]
  },
  {
   "cell_type": "markdown",
   "metadata": {},
   "source": [
    "## 9.8 Оператор Return\n",
    "\n",
    "Оператор return используется для возврата5 из функции, т.е. для прекращения её работы и выхода из неё. При этом можно также вернуть некоторое значение из функции."
   ]
  },
  {
   "cell_type": "code",
   "execution_count": 25,
   "metadata": {},
   "outputs": [
    {
     "name": "stdout",
     "output_type": "stream",
     "text": [
      "3\n"
     ]
    }
   ],
   "source": [
    "#!/usr/bin/python\n",
    "def maximum(x, y): \n",
    "    if x > y:\n",
    "        return x\n",
    "    elif x == y:\n",
    "        return 'Equals.' \n",
    "    else:\n",
    "        return y\n",
    "\n",
    "def maximum(x, y): \n",
    "    if x > y:\n",
    "        return x\n",
    "    if x == y:\n",
    "        return 'Equals.' \n",
    "    return y\n",
    "\n",
    "def maximum(x: int, y: int) -> int | None: \n",
    "    if x > y:\n",
    "        return x\n",
    "    if x == y:\n",
    "        return None\n",
    "    return y\n",
    "\n",
    "def maximum(x: int, y: int) -> int: \n",
    "    if x > y:\n",
    "        return x\n",
    "    if x == y:\n",
    "        return -1\n",
    "    return y\n",
    "\n",
    "print(maximum(2, 3))"
   ]
  },
  {
   "cell_type": "code",
   "execution_count": 37,
   "metadata": {},
   "outputs": [
    {
     "name": "stdout",
     "output_type": "stream",
     "text": [
      "None\n"
     ]
    }
   ],
   "source": [
    "def stub():\n",
    "    \"abc\"\n",
    "\n",
    "def stub():\n",
    "    pass\n",
    "\n",
    "\n",
    "def stub():\n",
    "    ...\n",
    "\n",
    "# identical construction\n",
    "def stub():\n",
    "    Ellipsis\n",
    "\n",
    "\n",
    "print(stub())"
   ]
  },
  {
   "cell_type": "code",
   "execution_count": 38,
   "metadata": {},
   "outputs": [
    {
     "name": "stdout",
     "output_type": "stream",
     "text": [
      "Help on function stub in module __main__:\n",
      "\n",
      "stub()\n",
      "    # identical construction\n",
      "\n"
     ]
    }
   ],
   "source": [
    "help(stub)"
   ]
  },
  {
   "cell_type": "code",
   "execution_count": 87,
   "metadata": {},
   "outputs": [
    {
     "name": "stdout",
     "output_type": "stream",
     "text": [
      "Help on ellipsis object:\n",
      "\n",
      "class ellipsis(object)\n",
      " |  Methods defined here:\n",
      " |  \n",
      " |  __getattribute__(self, name, /)\n",
      " |      Return getattr(self, name).\n",
      " |  \n",
      " |  __reduce__(...)\n",
      " |      Helper for pickle.\n",
      " |  \n",
      " |  __repr__(self, /)\n",
      " |      Return repr(self).\n",
      " |  \n",
      " |  ----------------------------------------------------------------------\n",
      " |  Static methods defined here:\n",
      " |  \n",
      " |  __new__(*args, **kwargs) from builtins.type\n",
      " |      Create and return a new object.  See help(type) for accurate signature.\n",
      "\n"
     ]
    }
   ],
   "source": [
    "help(...)\n"
   ]
  },
  {
   "cell_type": "code",
   "execution_count": 42,
   "metadata": {},
   "outputs": [
    {
     "name": "stdout",
     "output_type": "stream",
     "text": [
      "Help on built-in function print in module builtins:\n",
      "\n",
      "print(...)\n",
      "    print(value, ..., sep=' ', end='\\n', file=sys.stdout, flush=False)\n",
      "    \n",
      "    Prints the values to a stream, or to sys.stdout by default.\n",
      "    Optional keyword arguments:\n",
      "    file:  a file-like object (stream); defaults to the current sys.stdout.\n",
      "    sep:   string inserted between values, default a space.\n",
      "    end:   string appended after the last value, default a newline.\n",
      "    flush: whether to forcibly flush the stream.\n",
      "\n"
     ]
    }
   ],
   "source": [
    "help(print)"
   ]
  },
  {
   "cell_type": "code",
   "execution_count": 41,
   "metadata": {},
   "outputs": [
    {
     "name": "stdout",
     "output_type": "stream",
     "text": [
      "Help on class dict in module builtins:\n",
      "\n",
      "class dict(object)\n",
      " |  dict() -> new empty dictionary\n",
      " |  dict(mapping) -> new dictionary initialized from a mapping object's\n",
      " |      (key, value) pairs\n",
      " |  dict(iterable) -> new dictionary initialized as if via:\n",
      " |      d = {}\n",
      " |      for k, v in iterable:\n",
      " |          d[k] = v\n",
      " |  dict(**kwargs) -> new dictionary initialized with the name=value pairs\n",
      " |      in the keyword argument list.  For example:  dict(one=1, two=2)\n",
      " |  \n",
      " |  Built-in subclasses:\n",
      " |      StgDict\n",
      " |  \n",
      " |  Methods defined here:\n",
      " |  \n",
      " |  __contains__(self, key, /)\n",
      " |      True if the dictionary has the specified key, else False.\n",
      " |  \n",
      " |  __delitem__(self, key, /)\n",
      " |      Delete self[key].\n",
      " |  \n",
      " |  __eq__(self, value, /)\n",
      " |      Return self==value.\n",
      " |  \n",
      " |  __ge__(self, value, /)\n",
      " |      Return self>=value.\n",
      " |  \n",
      " |  __getattribute__(self, name, /)\n",
      " |      Return getattr(self, name).\n",
      " |  \n",
      " |  __getitem__(...)\n",
      " |      x.__getitem__(y) <==> x[y]\n",
      " |  \n",
      " |  __gt__(self, value, /)\n",
      " |      Return self>value.\n",
      " |  \n",
      " |  __init__(self, /, *args, **kwargs)\n",
      " |      Initialize self.  See help(type(self)) for accurate signature.\n",
      " |  \n",
      " |  __ior__(self, value, /)\n",
      " |      Return self|=value.\n",
      " |  \n",
      " |  __iter__(self, /)\n",
      " |      Implement iter(self).\n",
      " |  \n",
      " |  __le__(self, value, /)\n",
      " |      Return self<=value.\n",
      " |  \n",
      " |  __len__(self, /)\n",
      " |      Return len(self).\n",
      " |  \n",
      " |  __lt__(self, value, /)\n",
      " |      Return self<value.\n",
      " |  \n",
      " |  __ne__(self, value, /)\n",
      " |      Return self!=value.\n",
      " |  \n",
      " |  __or__(self, value, /)\n",
      " |      Return self|value.\n",
      " |  \n",
      " |  __repr__(self, /)\n",
      " |      Return repr(self).\n",
      " |  \n",
      " |  __reversed__(self, /)\n",
      " |      Return a reverse iterator over the dict keys.\n",
      " |  \n",
      " |  __ror__(self, value, /)\n",
      " |      Return value|self.\n",
      " |  \n",
      " |  __setitem__(self, key, value, /)\n",
      " |      Set self[key] to value.\n",
      " |  \n",
      " |  __sizeof__(...)\n",
      " |      D.__sizeof__() -> size of D in memory, in bytes\n",
      " |  \n",
      " |  clear(...)\n",
      " |      D.clear() -> None.  Remove all items from D.\n",
      " |  \n",
      " |  copy(...)\n",
      " |      D.copy() -> a shallow copy of D\n",
      " |  \n",
      " |  get(self, key, default=None, /)\n",
      " |      Return the value for key if key is in the dictionary, else default.\n",
      " |  \n",
      " |  items(...)\n",
      " |      D.items() -> a set-like object providing a view on D's items\n",
      " |  \n",
      " |  keys(...)\n",
      " |      D.keys() -> a set-like object providing a view on D's keys\n",
      " |  \n",
      " |  pop(...)\n",
      " |      D.pop(k[,d]) -> v, remove specified key and return the corresponding value.\n",
      " |      \n",
      " |      If the key is not found, return the default if given; otherwise,\n",
      " |      raise a KeyError.\n",
      " |  \n",
      " |  popitem(self, /)\n",
      " |      Remove and return a (key, value) pair as a 2-tuple.\n",
      " |      \n",
      " |      Pairs are returned in LIFO (last-in, first-out) order.\n",
      " |      Raises KeyError if the dict is empty.\n",
      " |  \n",
      " |  setdefault(self, key, default=None, /)\n",
      " |      Insert key with a value of default if key is not in the dictionary.\n",
      " |      \n",
      " |      Return the value for key if key is in the dictionary, else default.\n",
      " |  \n",
      " |  update(...)\n",
      " |      D.update([E, ]**F) -> None.  Update D from dict/iterable E and F.\n",
      " |      If E is present and has a .keys() method, then does:  for k in E: D[k] = E[k]\n",
      " |      If E is present and lacks a .keys() method, then does:  for k, v in E: D[k] = v\n",
      " |      In either case, this is followed by: for k in F:  D[k] = F[k]\n",
      " |  \n",
      " |  values(...)\n",
      " |      D.values() -> an object providing a view on D's values\n",
      " |  \n",
      " |  ----------------------------------------------------------------------\n",
      " |  Class methods defined here:\n",
      " |  \n",
      " |  __class_getitem__(...) from builtins.type\n",
      " |      See PEP 585\n",
      " |  \n",
      " |  fromkeys(iterable, value=None, /) from builtins.type\n",
      " |      Create a new dictionary with keys from iterable and values set to value.\n",
      " |  \n",
      " |  ----------------------------------------------------------------------\n",
      " |  Static methods defined here:\n",
      " |  \n",
      " |  __new__(*args, **kwargs) from builtins.type\n",
      " |      Create and return a new object.  See help(type) for accurate signature.\n",
      " |  \n",
      " |  ----------------------------------------------------------------------\n",
      " |  Data and other attributes defined here:\n",
      " |  \n",
      " |  __hash__ = None\n",
      "\n"
     ]
    }
   ],
   "source": [
    "help(dict)"
   ]
  },
  {
   "cell_type": "code",
   "execution_count": null,
   "metadata": {},
   "outputs": [],
   "source": []
  },
  {
   "cell_type": "markdown",
   "metadata": {},
   "source": [
    "## 9.9 Строки документации (docstring)\n",
    "Python имеет остроумную особенность, называемую строками документации, обычно обозначаемую сокращённо docstrings. Это очень важный инструмент. \n",
    "\n",
    "Cтроку документации можно получить, например, из функции, даже во время выполнения программы."
   ]
  },
  {
   "cell_type": "code",
   "execution_count": 91,
   "metadata": {},
   "outputs": [
    {
     "name": "stdout",
     "output_type": "stream",
     "text": [
      "5 is max\n",
      " \n",
      "    Prints max value of a and b.\n",
      "    NOTE: prints equals if a = b.\n",
      "    \n",
      "--------\n",
      "Help on function print_max in module __main__:\n",
      "\n",
      "print_max(a, b)\n",
      "    Prints max value of a and b.\n",
      "    NOTE: prints equals if a = b.\n",
      "\n",
      "11\n"
     ]
    }
   ],
   "source": [
    "def print_max(a, b):\n",
    "    \"\"\" \n",
    "    Prints max value of a and b.\n",
    "    NOTE: prints equals if a = b.\n",
    "    \"\"\"\n",
    "\n",
    "    if a > b:\n",
    "        print(a, 'is max') \n",
    "    elif a == b:\n",
    "        print(a, 'equals to', b)\n",
    "    else:\n",
    "        print(b, 'is max')\n",
    "\n",
    "\n",
    "print_max(3, 5)\n",
    "\n",
    "print(print_max.__doc__)\n",
    "\n",
    "print('--------')\n",
    "help(print_max)\n",
    "\n"
   ]
  },
  {
   "cell_type": "markdown",
   "metadata": {},
   "source": [
    "## 9.10 Анонимные функции (lambda)\n",
    "\n",
    "Помимо инструкции def в языке Python имеется возможность создавать объекты функций в форме выражений. Из-за сходства с аналогичной возможностью в языке LISP она получила название lambda. Подобно инструкции def это выражение создает функцию, которая будет вызываться позднее, но в отличие от инструкции def, выражение возвращает функцию, а не связывает ее с именем. Именно поэтому lambda-выражения иногда называют анонимными (то есть безымянными) функциями. \n",
    "\n",
    "На практике они часто используются, как способ получить встроенную функцию или отложить выполнение фрагмента программного кода.\n",
    "\n",
    "**lambda argument1, argument2,... argumentN : выражение, использующее аргументы**"
   ]
  },
  {
   "cell_type": "code",
   "execution_count": 44,
   "metadata": {},
   "outputs": [
    {
     "data": {
      "text/plain": [
       "3"
      ]
     },
     "execution_count": 44,
     "metadata": {},
     "output_type": "execute_result"
    }
   ],
   "source": [
    "def f(x, y):\n",
    "    return x + y\n",
    "\n",
    "# Anti-pattern\n",
    "f = lambda x, y: x + y \n",
    "f(1, 2)\n"
   ]
  },
  {
   "cell_type": "code",
   "execution_count": 98,
   "metadata": {},
   "outputs": [
    {
     "data": {
      "text/plain": [
       "-19"
      ]
     },
     "execution_count": 98,
     "metadata": {},
     "output_type": "execute_result"
    }
   ],
   "source": [
    "array = [1, 2, 3, -19, 12]\n",
    "# abs(1) >= abs(2)\n",
    "# abs(2) >= abs(3)\n",
    "# 1**2 >= 2**2..\n",
    "\n",
    "def f(x):\n",
    "    return x**2\n",
    "\n",
    "max(array, key=abs)\n",
    "max(array, key=f)\n",
    "max(array, key=lambda x: x**2)\n",
    "max(array, key=lambda x: x if x > 0 else x**2)\n",
    "max(array, key=lambda x: x if x > 0 else -x)\n"
   ]
  },
  {
   "cell_type": "markdown",
   "metadata": {},
   "source": [
    "# Задачи\n",
    "\n",
    "## 1. Список из числа.\n",
    " **Дано:** натуральное число N.\n",
    " \n",
    " **Задание:** написать функцию, которая возвращает список всех цифр этого числа в обратном порядке.\n",
    " \n",
    " **Пример:**\n",
    " \n",
    "     123, результат: [3, 2, 1]\n",
    "\n",
    "## 2. Палиндром.\n",
    " **Дано:**  слово, состоящее только из строчных латинских букв.\n",
    " \n",
    " **Задание:** написать функцию, которая возвращает True, если слово палиндромом, иначе False.\n",
    " \n",
    " Палиндро́м — число, буквосочетание, слово или текст, одинаково читающееся в обоих направлениях. Например, число 404; слова «топот» в русском языке; текст «а роза упала на лапу Азора» и пр.\n",
    " \n",
    " **Примеры:**\n",
    " \n",
    "     'lol', результат: True\n",
    "     'hi', результат: False\n",
    " \n",
    "## 3. Деканат.\n",
    " **Дано:**  список студентов: каждый элемент списка содержит фамилию, имя, отчество, год рождения, курс, номер группы, оценки по пяти предметам.\n",
    " \n",
    " **Задание:** реализуйте сл. функции:\n",
    "\n",
    "    1) возвращает список студентов по курсу, причем студенты одного курса располагались в алфавитном порядке;\n",
    "    2) находит средний балл каждой группы по каждому предмету;\n",
    "    3) определяет самого старшего студента и самого младшего студентов.\n",
    "    4) возвращает словарь, где для каждой группы определен лучшый с точки зрения успеваемости студент.\n",
    " \n",
    "  \n",
    "## [Junior-] 4. Пешки.\n",
    " **Дано:** координаты расставленных пешек в виде набора строк.\n",
    " \n",
    " **Задание.** \n",
    " Шахматы известны по всему миру, и практически всем людям знакомы их основные правила игры. В игре используется набор фигур, которые могут ходить по игровому полю различными способами, что обеспечивает огромное количество различных игровых комбинаций (к примеру, количество возможных шахматных партий оценивается Шенноном в 10^118). В этой задаче мы будем исследовать правила игры пешками.\n",
    "\n",
    "Шахматы - это стратегическая игра двух игроков, которая разыгрывается на игровой доске с клетками, расположенными в восьми рядах (называемых горизонталями и обозначаемых цифрами от 1 до 8) и в восьми колонках (называемых вертикалями и обозначаемых буквами от a до h). Каждая клетка доски идентифицируется уникальной парой координат, состоящей из буквы и цифры (например, \"a1\", \"h8\", \"d6\"). В этой задаче мы будем иметь дело только с пешками. Пешка может бить пешку противника, которая находится перед ней в соседней клетке по диагонали справа или слева, переходя в эту клетку. У белых пешек клетки перед ними имеют номер горизонтали на единицу больше.\n",
    "\n",
    "Сама по себе пешка является слабой фигурой, но мы можем использовать до восьми пешек для построения оборонительной стены. Стратегия оборонительной стены основывается на защите друг друга. Пешка защищена, если её клетка находится по ударом другой своей пешки. На игровом поле находятся только белые пешки. \n",
    "Вы должны реализовать функцию, позволяющую определить сколько пешек защищены в этой позиции.\n",
    "\n",
    "Вам предоставляется набор координат, в которых расставлены белые пешки. Вы должны подсчитать количество защищенных пешек.\n",
    "<img src='https://s3-eu-west-1.amazonaws.com/vitalypublicbucket/Screen+Shot+2017-05-04+at+14.23.57.png'/>\n",
    "\n",
    " **Примеры:**\n",
    " \n",
    "     {\"b4\", \"d4\", \"f4\", \"c3\", \"e3\", \"g5\", \"d2\"}, результат: 6\n",
    "     {\"b4\", \"c4\", \"d4\", \"e4\", \"f4\", \"g4\", \"e5\"}, результат: 1\n",
    "\n",
    "## [Junior+] 5.Min-max.\n",
    " **Дано:** позиционный аргумент, как итерируемое или два или более позиционных аргументов. Необязательный ключевой аргумент, как функция.\n",
    " \n",
    " **Задание.** \n",
    " \n",
    "Роботы решили покопаться в себе и может быть даже улучшить что-нибудь. В этой задаче Вам нужно написать свою реализацию встроенных функций (версии для py3) min и max. Некоторые встроенные функции заблокированы здесь: import, eval, exec, globals. Не забудьте, что в этой задаче вам нужно реализовать две функции, а не одну как обычно.\n",
    "\n",
    "max(iterable, *[, key]) or min(iterable, *[, key])\n",
    "max(arg1, arg2, *args[, key]) or min(arg1, arg2, *args[, key])\n",
    "\n",
    "Возвращает наибольший (наименьший) элемент в итерируемом (iterable) или наибольшее (наименьшее) из двух и более аргументов.\n",
    "\n",
    "Если дан только один позиционный аргумент, то он должен быть итерируемым. В этом случае функция возвращает наибольший (наименьший) элемент из данного итерируемого. Если даны два или более позиционных аргумента, то возвращен будет наибольший (наименьший) из данных аргументов.\n",
    "\n",
    "Необязательный ключевой аргумент key определяет функцию одного аргумента, которая используется для извлечения ключа для сравнения из каждого элемента массива (для примера, key=str.lower).\n",
    "\n",
    "Если массив содержит несколько максимальных (минимальных) значений, то функция возвращает первый по порядку в массиве.\n",
    "\n",
    "-- Python документация (Встроенные функции)\n",
    "\n",
    " \n",
    " **Примеры:**\n",
    " \n",
    "    max(3, 2) == 3\n",
    "    \n",
    "    min(3, 2) == 2\n",
    "    \n",
    "    max([1, 2, 0, 3, 4]) == 4\n",
    "    \n",
    "    min(\"hello\") == \"e\"\n",
    "    \n",
    "    max(2.2, 5.6, 5.9, key=int) == 5.6\n",
    "    \n",
    "    min([[1,2], [3, 4], [9, 0]], key=lambda x: x[1]) == [9, 0]\n",
    "   "
   ]
  }
 ],
 "metadata": {
  "kernelspec": {
   "display_name": "Python 3 (ipykernel)",
   "language": "python",
   "name": "python3"
  },
  "language_info": {
   "codemirror_mode": {
    "name": "ipython",
    "version": 3
   },
   "file_extension": ".py",
   "mimetype": "text/x-python",
   "name": "python",
   "nbconvert_exporter": "python",
   "pygments_lexer": "ipython3",
   "version": "3.10.6"
  }
 },
 "nbformat": 4,
 "nbformat_minor": 4
}
