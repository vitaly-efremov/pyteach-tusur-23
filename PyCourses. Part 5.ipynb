{
 "cells": [
  {
   "cell_type": "markdown",
   "metadata": {},
   "source": [
    "# 5. Поток команд\n",
    "\n",
    "В Python есть три оператора управления потоком: **if, for и while.**\n",
    "\n",
    "## 5.1 Оператор if\n",
    "Оператор if используется для проверки условий: **если** условие верно, **то** выполняется блок выражений (называемый «if-блок»), **иначе** выполняется другой блок выражений (называемый «else-блок»). \n",
    "\n",
    "Блок «else» является необязательным.\n"
   ]
  },
  {
   "cell_type": "code",
   "execution_count": 12,
   "metadata": {},
   "outputs": [
    {
     "name": "stdin",
     "output_type": "stream",
     "text": [
      "Введите целое число :  21\n"
     ]
    },
    {
     "name": "stdout",
     "output_type": "stream",
     "text": [
      "Нет, загаданное число немного больше этого.\n",
      "Завершено\n"
     ]
    }
   ],
   "source": [
    "number = 23\n",
    "guess_value: str = input('Введите целое число : ')\n",
    "guess: int = int(guess_value)\n",
    "\n",
    "if guess == number:\n",
    "    print('Поздравляю, вы угадали,')\n",
    "    print('(хотя и не выиграли никакого приза!)') # Здесь заканчивается новый блок\n",
    "elif guess < number:\n",
    "    print('Нет, загаданное число немного больше этого.') # Ещё один блок \n",
    "    # Внутри блока вы можете выполнять всё, что угодно ...\n",
    "else:\n",
    "    print('Нет, загаданное число немного меньше этого.')\n",
    "    \n",
    "# чтобы попасть сюда, guess должно быть больше, чем number\n",
    "print('Завершено')"
   ]
  },
  {
   "cell_type": "code",
   "execution_count": 36,
   "metadata": {},
   "outputs": [
    {
     "name": "stdout",
     "output_type": "stream",
     "text": [
      "False\n"
     ]
    }
   ],
   "source": [
    "number = 23\n",
    "guess = 21\n",
    "comparison = number == guess\n",
    "print(comparison)"
   ]
  },
  {
   "cell_type": "code",
   "execution_count": 35,
   "metadata": {},
   "outputs": [
    {
     "data": {
      "text/plain": [
       "False"
      ]
     },
     "execution_count": 44,
     "metadata": {},
     "output_type": "execute_result"
    }
   ],
   "source": [
    "bool('0')"
   ]
  },
  {
   "cell_type": "code",
   "execution_count": 25,
   "metadata": {
    "tags": []
   },
   "outputs": [
    {
     "name": "stdout",
     "output_type": "stream",
     "text": [
      "True - Да, это верно.\n",
      "1 - Да, это верно.\n",
      "Да, это верно.\n",
      "\"0\" - Да, это верно.\n"
     ]
    }
   ],
   "source": [
    "if True:\n",
    "    print('True - Да, это верно.')\n",
    "    \n",
    "if 1:\n",
    "    print('1 - Да, это верно.')\n",
    "\n",
    "if 'Python':\n",
    "    print('Да, это верно.')\n",
    "\n",
    "if '0':\n",
    "    print('\"0\" - Да, это верно.')    \n",
    "\n",
    "condition = False\n",
    "if condition == True:\n",
    "    print()\n",
    "\n",
    "if False == True:\n",
    "    print()\n",
    "\n",
    "if False:\n",
    "    print('Нет, это неверно.')\n",
    "    \n",
    "if '':\n",
    "    print('Нет, это неверно.')\n",
    "\n",
    "if 0:\n",
    "    print('Нет, это неверно.')\n",
    "\n",
    "if None:\n",
    "    print('Нет, это неверно.')"
   ]
  },
  {
   "cell_type": "code",
   "execution_count": 68,
   "metadata": {},
   "outputs": [
    {
     "name": "stdout",
     "output_type": "stream",
     "text": [
      "12\n"
     ]
    }
   ],
   "source": [
    "value = '12'\n",
    "\n",
    "if value:\n",
    "    integer_value = int(value)\n",
    "    print(integer_value)\n",
    "else:\n",
    "    print(f'Empty: \"{value}\"')"
   ]
  },
  {
   "cell_type": "code",
   "execution_count": 57,
   "metadata": {},
   "outputs": [
    {
     "data": {
      "text/plain": [
       "0"
      ]
     },
     "execution_count": 57,
     "metadata": {},
     "output_type": "execute_result"
    }
   ],
   "source": [
    "int(False)"
   ]
  },
  {
   "cell_type": "markdown",
   "metadata": {},
   "source": [
    "### Тернарные выражения"
   ]
  },
  {
   "cell_type": "code",
   "execution_count": 1,
   "metadata": {
    "tags": []
   },
   "outputs": [
    {
     "name": "stdout",
     "output_type": "stream",
     "text": [
      "Honey I'll be at 7-30 pm\n",
      "Honey Don't wait me\n"
     ]
    }
   ],
   "source": [
    "drink = 'coffee1'\n",
    "\n",
    "# original\n",
    "say_to_wife = ''\n",
    "if drink == 'coffee':\n",
    "    say_to_wife = \"I'll be at 7 pm\"\n",
    "else:\n",
    "    say_to_wife = \"I'll be at 7-30 pm\"\n",
    "\n",
    "# alternative 1\n",
    "say_to_wife = \"I'll be at 7-30 pm\"\n",
    "if drink == 'coffee':\n",
    "    say_to_wife = \"I'll be at 7 pm\"\n",
    "\n",
    "# alternative 2\n",
    "say_to_wife = \"I'll be at 7 pm\" if drink == 'coffee' else \"I'll be at 7-30 pm\"\n",
    "print('Honey', say_to_wife)\n",
    "\n",
    "\n",
    "say_to_wife = (\"I'll be at 7 pm\" if drink == 'coffee' else\n",
    "               \"I'll be at 9 pm\" if drink == 'beer' else \n",
    "               \"I'll be at 2 am\" if drink == 'vodka' else \n",
    "               \"Don't wait me\")\n",
    "print('Honey', say_to_wife)"
   ]
  },
  {
   "cell_type": "code",
   "execution_count": 70,
   "metadata": {},
   "outputs": [
    {
     "name": "stdout",
     "output_type": "stream",
     "text": [
      "You can become a backend developer\n"
     ]
    }
   ],
   "source": [
    "# since Python 3.10\n",
    "language  = 'PHP'\n",
    "\n",
    "match language:\n",
    "    case 'JavaScript':\n",
    "        print('You can become a web developer.')\n",
    "    case 'Python':\n",
    "        print('You can become a Data Scientist')\n",
    "    case 'PHP':\n",
    "        print('You can become a backend developer')\n",
    "    case 'Solidity':\n",
    "        print('You can become a Blockchain developer')\n",
    "    case 'Java':\n",
    "        print('You can become a mobile app developer')\n",
    "    case _:\n",
    "        print(\"The language doesn't matter, what matters is solving problems.\")\n"
   ]
  },
  {
   "cell_type": "markdown",
   "metadata": {},
   "source": [
    "## 5.2 Цикл while\n",
    "\n",
    "Оператор while позволяет многократно выполнять блок команд до тех пор, пока выполняется некоторое условие. Это один из так называемых операторов цикла. Он также может иметь необязательный пункт else.\n"
   ]
  },
  {
   "cell_type": "code",
   "execution_count": 90,
   "metadata": {},
   "outputs": [
    {
     "name": "stdout",
     "output_type": "stream",
     "text": [
      "Hello\n",
      "Hello\n",
      "Hello\n"
     ]
    }
   ],
   "source": [
    "repeat_count = 3\n",
    "count = 0\n",
    "while count < repeat_count:\n",
    "    print('Hello')\n",
    "    count += 1 "
   ]
  },
  {
   "cell_type": "code",
   "execution_count": 75,
   "metadata": {},
   "outputs": [
    {
     "name": "stdin",
     "output_type": "stream",
     "text": [
      "Введите целое число :  1\n"
     ]
    },
    {
     "name": "stdout",
     "output_type": "stream",
     "text": [
      "Нет, загаданное число немного больше этого\n"
     ]
    },
    {
     "name": "stdin",
     "output_type": "stream",
     "text": [
      "Введите целое число :  2\n"
     ]
    },
    {
     "name": "stdout",
     "output_type": "stream",
     "text": [
      "Нет, загаданное число немного больше этого\n"
     ]
    },
    {
     "name": "stdin",
     "output_type": "stream",
     "text": [
      "Введите целое число :  10\n"
     ]
    },
    {
     "name": "stdout",
     "output_type": "stream",
     "text": [
      "Нет, загаданное число немного больше этого\n"
     ]
    },
    {
     "name": "stdin",
     "output_type": "stream",
     "text": [
      "Введите целое число :  100\n"
     ]
    },
    {
     "name": "stdout",
     "output_type": "stream",
     "text": [
      "Нет, загаданное число немного меньше этого.\n"
     ]
    },
    {
     "name": "stdin",
     "output_type": "stream",
     "text": [
      "Введите целое число :  23\n"
     ]
    },
    {
     "name": "stdout",
     "output_type": "stream",
     "text": [
      "Поздравляю, вы угадали.\n",
      "Цикл while закончен.\n",
      "Завершение.\n"
     ]
    }
   ],
   "source": [
    "number = 23\n",
    "running = True\n",
    "\n",
    "while running:\n",
    "    guess = int(input('Введите целое число : '))\n",
    "    if guess == number:\n",
    "        print('Поздравляю, вы угадали.')\n",
    "        running = False # это останавливает цикл while\n",
    "    elif guess < number:\n",
    "        print('Нет, загаданное число немного больше этого')\n",
    "    else:\n",
    "        print('Нет, загаданное число немного меньше этого.')\n",
    "else:\n",
    "    print('Цикл while закончен.')\n",
    "\n",
    "# Здесь можете выполнить всё что вам ещё нужно\n",
    "print('Завершение.')"
   ]
  },
  {
   "cell_type": "markdown",
   "metadata": {},
   "source": [
    "## 5.3 Оператор for\n",
    "\n",
    "Оператор for..in также является оператором цикла, который осуществляет итерацию по последовательности объектов, т.е. проходит через каждый элемент в последовательности. \n",
    "\n",
    "Последовательность – это упорядоченный и неупорядоченный набор элементов."
   ]
  },
  {
   "cell_type": "code",
   "execution_count": 85,
   "metadata": {},
   "outputs": [
    {
     "name": "stdout",
     "output_type": "stream",
     "text": [
      "a\n",
      "b\n",
      "c\n",
      "d\n",
      "Цикл for закончен\n",
      "0\n",
      "1\n",
      "2\n",
      "3\n",
      "4\n",
      "5\n",
      "6\n",
      "7\n",
      "8\n",
      "9\n"
     ]
    }
   ],
   "source": [
    "for i in 'abcd': \n",
    "    print(i)\n",
    "else:\n",
    "    print('Цикл for закончен')\n",
    "\n",
    "for i in range(10):\n",
    "    print(i)"
   ]
  },
  {
   "cell_type": "markdown",
   "metadata": {},
   "source": [
    "## 5.4 Оператор break\n",
    "\n",
    "Оператор break служит для прерывания цикла, т.е. остановки выполнения команд даже если условие выполнения цикла ещё не приняло значения False или последовательность элементов не закончилась.\n",
    "\n",
    "Еси циклы for или while прервать оператором break, соответствующие им блоки else выполняться не будут."
   ]
  },
  {
   "cell_type": "code",
   "execution_count": 87,
   "metadata": {},
   "outputs": [
    {
     "name": "stdin",
     "output_type": "stream",
     "text": [
      "Введите что-нибудь :  1\n"
     ]
    },
    {
     "name": "stdout",
     "output_type": "stream",
     "text": [
      "Длина строки:  1\n"
     ]
    },
    {
     "name": "stdin",
     "output_type": "stream",
     "text": [
      "Введите что-нибудь :  выход\n"
     ]
    },
    {
     "name": "stdout",
     "output_type": "stream",
     "text": [
      "Завершение\n"
     ]
    }
   ],
   "source": [
    "while True:\n",
    "    s = input('Введите что-нибудь : ') \n",
    "    if s == 'выход':\n",
    "        break\n",
    "    print('Длина строки: ', len(s))\n",
    "else:\n",
    "    print('Break not called')\n",
    "print('Завершение')"
   ]
  },
  {
   "cell_type": "markdown",
   "metadata": {},
   "source": [
    "## 5.5 Оператор continue\n",
    "\n",
    "Оператор **continue** используется для указания Python, что необходимо пропустить все оставшиеся команды в текущем блоке цикла и продолжить со следующей итерации цикла."
   ]
  },
  {
   "cell_type": "code",
   "execution_count": 92,
   "metadata": {
    "tags": []
   },
   "outputs": [
    {
     "name": "stdin",
     "output_type": "stream",
     "text": [
      "Введите что-нибудь :  выход\n"
     ]
    },
    {
     "name": "stdout",
     "output_type": "stream",
     "text": [
      "Good bye!\n"
     ]
    }
   ],
   "source": [
    "while True:\n",
    "    s = input('Введите что-нибудь : ') \n",
    "    if s == 'выход':\n",
    "        break\n",
    "    \n",
    "    if len(s) < 3:\n",
    "        print('Слишком мало')\n",
    "        continue\n",
    "    print('Введённая строка достаточной длины') # Разные другие действия здесь...\n",
    "\n",
    "print('Good bye!')"
   ]
  },
  {
   "cell_type": "markdown",
   "metadata": {},
   "source": [
    "## 5.6 Задачи\n",
    " ### 1. Fizz Buzz\n",
    "\n",
    " **Дано:** Число, как целочисленное (int).\n",
    " \n",
    " **Задание:** \n",
    "\n",
    "\"Fizz buzz\" это игра со словами, с помощью которой мы будем учить наших роботов делению. Давайте обучим компьютер.\n",
    "\n",
    "Вы должны написать программу, которая принимает положительное целое число и возвращает сл. значения.\n",
    "\n",
    "  1. \"Fizz Buzz\", если число делится на 3 и 5;\n",
    "  2. \"Fizz\", если число делится на 3;\n",
    "  3. \"Buzz\", если число делится на 5; \n",
    "\n",
    "Число, как строку для остальных случаев.\n",
    "     \n",
    " **Пример:**\n",
    " \n",
    "     x = 15, результат: \"Fizz Buzz\"\n",
    "     \n",
    "     x = 6, результат: \"Fizz\"     \n",
    " \n",
    "     x = 5, результат: \"Buzz\"   \n",
    "     \n",
    "     x = 7, результат: \"7\" \n",
    "\n",
    " ### 2. Оценка числа\n",
    "\n",
    " **Дано:** Число x.\n",
    " \n",
    " **Задание:** нужно написать программу, которая дает оценку заданному значению, используя следующие правила.\n",
    " \n",
    "   1. если x нечетное, то это \"Плохо\"\n",
    "   2. если x = [2, 5] и четное, то это \"Неплохо\"\n",
    "   3. если x = [6, 20] и четное, то это \"Так себе\"\n",
    "   4. если x > 20 и четное, то это \"Отлично\"\n",
    "\n",
    "     \n",
    " **Пример:**\n",
    " \n",
    "     x = 15, результат: \"Плохо\"\n",
    "     \n",
    "     x = 4, результат: \"Неплохо\"     \n",
    " \n",
    "     x = 8, результат: \"Так себе\"   \n",
    "     \n",
    "     x = 24, результат: \"Отлично\" \n",
    " \n",
    " \n",
    " ### 3. Последовательность\n",
    " \n",
    " **Дано:** Число N = [1-9].\n",
    " \n",
    " **Задание:** нужно написать программу, которая выведет последовательность 123..N\n",
    "\n",
    "     \n",
    " **Пример:**\n",
    " \n",
    "     N = 3, результат: 123\n",
    "     \n",
    "     N = 9, результат: 123456789     \n",
    " \n",
    "     x = 1, результат: 1\n",
    " \n",
    " ### 4. Секретное сообщение\n",
    " \n",
    " \"Где умный человек прячет лист? В лесу. Но что если леса нет? ... Он выращивает лес и прячет его там.\"\n",
    "-- Гилберт Кит Честертон\n",
    "\n",
    "Когда-нибудь пробовали отправить секретное сообщение кому-то не пользуясь услугами почты? Вы можете использовать газету, чтобы рассказать кому-то свой секрет. Даже если кто-то найдет ваше сообщение, легко отмахнуться и сказать что это паранойя и теория заговора. Один из самых простых способов спрятать ваше секретное сообщение это использовать заглавные буквы. Давайте найдем несколько таких секретных сообщений.\n",
    "\n",
    "\n",
    " **Дано:** Дан кусок текста (str).\n",
    " \n",
    " **Задание:** Соберите все заглавные буквы в одно слово в том порядке как они встречаются в куске текста.\n",
    " Подсказка: посмотрите внимательно на методы класса str.\n",
    "     \n",
    " **Пример:**\n",
    " \n",
    "     текст = \"How are you? Eh, ok. Low or Lower? Ohhh.\", если мы соберем все заглавные буквы, то получим сообщение \"HELLO\".\n",
    "     \n",
    "### [Junior] 5. Три слова\n",
    " \n",
    "Давайте научим наших роботов отличать слова от чисел.\n",
    "\n",
    "Дана строка со словами и числами, разделенными пробелами (один пробел между словами и/или числами). Слова состоят только из букв. \n",
    "\n",
    " **Дано:** Строка со словами (str).\n",
    " \n",
    " **Задание:** напишите программу, которая проверяет есть ли в исходной строке три слова подряд. Для примера, в строке \"start 5 one two three 7 end\" есть три слова подряд.\n",
    "     \n",
    " **Примеры:**\n",
    "   \n",
    "   text = \"Hello World hello\", результат: True\n",
    "   \n",
    "   text = \"He is 123 man\", результат: False\n",
    "   \n",
    "   text = \"1 2 3 4\", результат: False\n",
    "\n",
    "### [Junior+] 6. Мир захватили левши\n",
    " \n",
    "На протяжении веков, левши страдали от дискриминации в мире, созданном для правшей.\" \n",
    "Santrock, John W. (2008). Motor, Sensory, and Perceptual Development.\n",
    "\n",
    "\"Большинство людей (70-95%) правши, меньшинство (5-30 %) левши, и неопределеное число людей вероятно лучше всего охарактеризовать, как \"симметричные\".\" \n",
    "Scientific American. www.scientificamerican.com\n",
    "\n",
    "Один робот был занят простой задачей: объединить последовательность строк в одно выражение для создания инструкции по обходу корабля. Но робот был левша и зачастую шутил и запутывал своих друзей правшей.\n",
    "\n",
    " **Дано:** последовательность строк.\n",
    " \n",
    " **Задание:** вы должны объединить эти строки в блок текста, разделив изначальные строки запятыми. В качестве шутки над праворукими роботами, вы должны заменить все вхождения слова \"right\" на слова \"left\", даже если это часть другого слова. Все строки даны в нижнем регистре.\n",
    "     \n",
    " **Примеры:**\n",
    "   \n",
    "   [\"left\", \"right\", \"left\", \"stop\"], результат: \"left,left,left,stop\"\n",
    "   \n",
    "   [\"bright aright\", \"ok\"], результат: \"bleft aleft,ok\"\n",
    "   \n",
    "   [\"enough\", \"jokes\"], результат: \"enough,jokes\"\n"
   ]
  }
 ],
 "metadata": {
  "kernelspec": {
   "display_name": "Python 3 (ipykernel)",
   "language": "python",
   "name": "python3"
  },
  "language_info": {
   "codemirror_mode": {
    "name": "ipython",
    "version": 3
   },
   "file_extension": ".py",
   "mimetype": "text/x-python",
   "name": "python",
   "nbconvert_exporter": "python",
   "pygments_lexer": "ipython3",
   "version": "3.10.6"
  }
 },
 "nbformat": 4,
 "nbformat_minor": 4
}
